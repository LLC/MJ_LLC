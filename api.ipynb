{
 "cells": [
  {
   "cell_type": "code",
   "execution_count": 9,
   "metadata": {
    "collapsed": true
   },
   "outputs": [],
   "source": [
    "#-*- coding:utf-8 -*-\n",
    "import os\n",
    "import sys\n",
    "import json\n",
    "import operator\n",
    "from flask import Flask,g\n",
    "import time\n",
    "import pandas as pd\n",
    "import numpy as np\n",
    "from flask import jsonify\n",
    "import json\n",
    "import inspect\n",
    "import redis\n",
    "from flask import request"
   ]
  },
  {
   "cell_type": "code",
   "execution_count": 6,
   "metadata": {
    "collapsed": true
   },
   "outputs": [],
   "source": [
    "ip = 'localhost'\n",
    "reload(sys)\n",
    "sys.setdefaultencoding('utf8')\n",
    "\n",
    "app = Flask(__name__)\n",
    "app.config['JSON_AS_ASCII'] = False\n",
    "r = redis.Redis(host=ip, port=6379, db=0)"
   ]
  },
  {
   "cell_type": "code",
   "execution_count": 23,
   "metadata": {
    "collapsed": true
   },
   "outputs": [],
   "source": [
    "table1 = pd.read_excel(\"TAG_LOG_DOWNLOAD.xlsx\")\n",
    "table1['TAG_VALUE'] = \"\"\n",
    "table2 = pd.read_excel(\"TAG_Value_DOWNLOAD.xlsx\")\n",
    "table_merge = pd.concat([table1.loc[:,:], table2.loc[:,:]], axis = 0)\n",
    "table_merge = table_merge.reset_index(drop=True)"
   ]
  },
  {
   "cell_type": "code",
   "execution_count": 16,
   "metadata": {
    "collapsed": true
   },
   "outputs": [],
   "source": [
    "import psycopg2\n",
    "# connect PostgreSQL\n",
    "conn = psycopg2.connect(database = \"MJ\",\n",
    "                        host = \"localhost\",\n",
    "                        user = \"llc\",\n",
    "                        password = \"\")\n",
    "cur = conn.cursor()"
   ]
  },
  {
   "cell_type": "code",
   "execution_count": 14,
   "metadata": {
    "collapsed": true
   },
   "outputs": [],
   "source": [
    "def tag_db_query(UTID, sql_db):\n",
    "    SQL = \"SELECT tag_info FROM intent_db WHERE tag_info->>'TAG_ID' = '{}';\".format(UTID)\n",
    "    sql_db.execute(SQL)\n",
    "    records = sql_db.fetchall()[0][0]\n",
    "    return records"
   ]
  },
  {
   "cell_type": "code",
   "execution_count": 17,
   "metadata": {
    "collapsed": true
   },
   "outputs": [],
   "source": [
    "unique_ID = np.unique(table_merge['ID'])\n",
    "for i in unique_ID:\n",
    "    temp_list = []\n",
    "    temp_detail = {}    \n",
    "    unique_ID_table = table_merge[table_merge.ID==i]\n",
    "    temp_detail['VID'] = i\n",
    "    temp_detail['realtimeTag'] = []\n",
    "\n",
    "    for j in range(len(unique_ID_table)):\n",
    "        query_update = {}\n",
    "        query_temp = tag_db_query(unique_ID_table['UTID'].values[j],cur)\n",
    "\n",
    "        query_update['scenario'] = query_temp['scenario']\n",
    "        query_update['recommendWeight'] = query_temp['recommedWeight']\n",
    "        query_update['dataSource'] = query_temp['dataSource']\n",
    "        query_update['securityFilter'] = query_temp['securityFilter']\n",
    "        query_update['tagValue'] = unique_ID_table['TAG_VALUE'].values[j]\n",
    "        query_update['tagId'] = query_temp['TAG_ID']\n",
    "        query_update['tagName'] = query_temp['Chinese_Desc']\n",
    "        query_update['tagTime'] = time.time()\n",
    "        query_update['expireTime'] = time.time() + float(query_temp['expireAfter'])\n",
    "        query_update['isValid'] = query_temp['isActive']\n",
    "        temp_list.append(query_update)\n",
    "    temp_detail['batchTag'] = temp_list\n",
    "    r.set(i, json.dumps(temp_detail,ensure_ascii=False))"
   ]
  },
  {
   "cell_type": "code",
   "execution_count": 102,
   "metadata": {},
   "outputs": [
    {
     "data": {
      "text/plain": [
       "{u'dataSource': u'EBM',\n",
       " u'expireTime': 1511318698.777089,\n",
       " u'isValid': u'Y',\n",
       " u'recommendWeight': u'1',\n",
       " u'scenario': {u'DIIS1': u'S', u'DIIS2': u'SEG002', u'DIIS3': u'02'},\n",
       " u'securityFilter': u'admin',\n",
       " u'tagId': u'SEG002',\n",
       " u'tagName': u'\\u5ba2\\u7fa42',\n",
       " u'tagTime': 1511318668.777089,\n",
       " u'tagValue': 3}"
      ]
     },
     "execution_count": 102,
     "metadata": {},
     "output_type": "execute_result"
    }
   ],
   "source": [
    "tag_info = json.loads(r.get(1500))\n",
    "\n",
    "for k in range(len(tag_info.values()[0])):\n",
    "    if str(tag_info.values()[0][k]['tagId']) == 'SEG002':\n",
    "        new_info = tag_info.values()[0][k]\n",
    "new_info"
   ]
  },
  {
   "cell_type": "code",
   "execution_count": 89,
   "metadata": {},
   "outputs": [
    {
     "data": {
      "text/plain": [
       "3"
      ]
     },
     "execution_count": 89,
     "metadata": {},
     "output_type": "execute_result"
    }
   ],
   "source": [
    "tag_info = json.loads(r.get(1))\n",
    "\n",
    "for k in range(len(tag_info.values()[0])):\n",
    "    if str(tag_info.values()[0][k]['tagId']) == 'SEG002':\n",
    "        new_info = tag_info.values()[0][k]['tagValue']\n",
    "new_info"
   ]
  },
  {
   "cell_type": "code",
   "execution_count": 110,
   "metadata": {
    "collapsed": true
   },
   "outputs": [],
   "source": [
    "for k in range( len((tag_info[u'batchTag'])[0])):\n",
    "    print t"
   ]
  },
  {
   "cell_type": "code",
   "execution_count": null,
   "metadata": {
    "collapsed": true
   },
   "outputs": [],
   "source": [
    "@app.route('/GetAllTag',methods=['GET'])\n",
    "def get_alltag():\n",
    "    vid = request.args.get('vid')\n",
    "    tagid = request.args.get('tagid')\n",
    "    \n",
    "    \n",
    "    tag_info = json.loads(r.get(vid))\n",
    "    res = jsonify(tag_info)\n",
    "    res.headers['Content-Type'] = 'application/json; charset=utf-8'\n",
    "    return res\n",
    "\n"
   ]
  },
  {
   "cell_type": "code",
   "execution_count": null,
   "metadata": {
    "collapsed": true
   },
   "outputs": [],
   "source": []
  },
  {
   "cell_type": "code",
   "execution_count": 5,
   "metadata": {},
   "outputs": [
    {
     "ename": "SystemExit",
     "evalue": "1",
     "output_type": "error",
     "traceback": [
      "An exception has occurred, use %tb to see the full traceback.\n",
      "\u001b[0;31mSystemExit\u001b[0m\u001b[0;31m:\u001b[0m 1\n"
     ]
    }
   ],
   "source": [
    "if __name__ == \"__main__\":\n",
    "    app.run(debug=True, host=\"0.0.0.0\", port=6004)"
   ]
  },
  {
   "cell_type": "code",
   "execution_count": 95,
   "metadata": {},
   "outputs": [
    {
     "data": {
      "text/plain": [
       "'{\"batchTag\": [{\"tagTime\": 1511318668.774434, \"scenario\": {\"DIIS2\": \"SEG001\", \"DIIS3\": \"01\", \"DIIS1\": \"S\"}, \"isValid\": \"Y\", \"tagId\": \"SEG001\", \"securityFilter\": \"admin\", \"expireTime\": 1511318698.774434, \"tagValue\": 7, \"dataSource\": \"EBM\", \"tagName\": \"\\xe5\\xae\\xa2\\xe7\\xbe\\xa41\", \"recommendWeight\": \"1\"}, {\"tagTime\": 1511318668.777089, \"scenario\": {\"DIIS2\": \"SEG002\", \"DIIS3\": \"02\", \"DIIS1\": \"S\"}, \"isValid\": \"Y\", \"tagId\": \"SEG002\", \"securityFilter\": \"admin\", \"expireTime\": 1511318698.777089, \"tagValue\": 3, \"dataSource\": \"EBM\", \"tagName\": \"\\xe5\\xae\\xa2\\xe7\\xbe\\xa42\", \"recommendWeight\": \"1\"}], \"realtimeTag\": [], \"VID\": 1500}'"
      ]
     },
     "execution_count": 95,
     "metadata": {},
     "output_type": "execute_result"
    }
   ],
   "source": [
    "r.get(1500)"
   ]
  },
  {
   "cell_type": "code",
   "execution_count": 111,
   "metadata": {
    "collapsed": true
   },
   "outputs": [],
   "source": [
    "tmp = {\"batchTag\": [{\"tagTime\": 1511429720.788613, \"scenario\": {\"DIIS2\": \"SEG001\", \"DIIS3\": \"01\", \"DIIS1\": \"S\"}, \"isValid\": \"Y\", \"tagId\": \"SEG001\", \"securityFilter\": \"admin\", \"expireTime\": 1511429750.788614, \"tagValue\": 7, \"dataSource\": \"EBM\", \"tagName\": \"客群1\", \"recommendWeight\": \"1\"}, {\"tagTime\": 1511429720.791564, \"scenario\": {\"DIIS2\": \"SEG002\", \"DIIS3\": \"02\", \"DIIS1\": \"S\"}, \"isValid\": \"Y\", \"tagId\": \"SEG002\", \"securityFilter\": \"admin\", \"expireTime\": 1511429750.791565, \"tagValue\": 3, \"dataSource\": \"EBM\", \"tagName\": \"客群2\", \"recommendWeight\": \"1\"}], \"realtimeTag\": [], \"VID\": 1500}"
   ]
  },
  {
   "cell_type": "code",
   "execution_count": 115,
   "metadata": {},
   "outputs": [],
   "source": [
    "tmp[\"realtimeTag\"] = [{u'create Time': u'17385', u'referenceDocument': u'SEG_Simulation', u'scenario': {u'DIIS2': u'SEG001', u'DIIS3': u'01', u'DIIS1': u'S'}, u'recommedWeight': u'1', u'Chinese_Desc': u'\\u5ba2\\u7fa41', u'TAG_ID': u'SEG001', u'operationType': u'Batch', u'securityFilter': u'admin', u'update Time': u'17385', u'expireAfter': u'30', u'tagVersion': u'V1', u'modelId': u'MSEG00001', u'isActive': u'Y', u'dataSource': u'EBM'}]"
   ]
  },
  {
   "cell_type": "code",
   "execution_count": 116,
   "metadata": {},
   "outputs": [
    {
     "data": {
      "text/plain": [
       "{'VID': 1500,\n",
       " 'batchTag': [{'dataSource': 'EBM',\n",
       "   'expireTime': 1511429750.788614,\n",
       "   'isValid': 'Y',\n",
       "   'recommendWeight': '1',\n",
       "   'scenario': {'DIIS1': 'S', 'DIIS2': 'SEG001', 'DIIS3': '01'},\n",
       "   'securityFilter': 'admin',\n",
       "   'tagId': 'SEG001',\n",
       "   'tagName': '\\xe5\\xae\\xa2\\xe7\\xbe\\xa41',\n",
       "   'tagTime': 1511429720.788613,\n",
       "   'tagValue': 7},\n",
       "  {'dataSource': 'EBM',\n",
       "   'expireTime': 1511429750.791565,\n",
       "   'isValid': 'Y',\n",
       "   'recommendWeight': '1',\n",
       "   'scenario': {'DIIS1': 'S', 'DIIS2': 'SEG002', 'DIIS3': '02'},\n",
       "   'securityFilter': 'admin',\n",
       "   'tagId': 'SEG002',\n",
       "   'tagName': '\\xe5\\xae\\xa2\\xe7\\xbe\\xa42',\n",
       "   'tagTime': 1511429720.791564,\n",
       "   'tagValue': 3}],\n",
       " 'realtimeTag': [{u'Chinese_Desc': u'\\u5ba2\\u7fa41',\n",
       "   u'TAG_ID': u'SEG001',\n",
       "   u'create Time': u'17385',\n",
       "   u'dataSource': u'EBM',\n",
       "   u'expireAfter': u'30',\n",
       "   u'isActive': u'Y',\n",
       "   u'modelId': u'MSEG00001',\n",
       "   u'operationType': u'Batch',\n",
       "   u'recommedWeight': u'1',\n",
       "   u'referenceDocument': u'SEG_Simulation',\n",
       "   u'scenario': {u'DIIS1': u'S', u'DIIS2': u'SEG001', u'DIIS3': u'01'},\n",
       "   u'securityFilter': u'admin',\n",
       "   u'tagVersion': u'V1',\n",
       "   u'update Time': u'17385'}]}"
      ]
     },
     "execution_count": 116,
     "metadata": {},
     "output_type": "execute_result"
    }
   ],
   "source": [
    "tmp"
   ]
  },
  {
   "cell_type": "code",
   "execution_count": 129,
   "metadata": {},
   "outputs": [
    {
     "data": {
      "text/plain": [
       "[{u'Chinese_Desc': u'\\u5ba2\\u7fa41',\n",
       "  u'TAG_ID': u'SEG001',\n",
       "  u'create Time': u'17385',\n",
       "  u'dataSource': u'EBM',\n",
       "  u'expireAfter': u'30',\n",
       "  u'isActive': u'Y',\n",
       "  u'modelId': u'MSEG00001',\n",
       "  u'operationType': u'Batch',\n",
       "  u'recommedWeight': u'1',\n",
       "  u'referenceDocument': u'SEG_Simulation',\n",
       "  u'scenario': {u'DIIS1': u'S', u'DIIS2': u'SEG001', u'DIIS3': u'01'},\n",
       "  u'securityFilter': u'admin',\n",
       "  u'tagVersion': u'V1',\n",
       "  u'update Time': u'17385'}]"
      ]
     },
     "execution_count": 129,
     "metadata": {},
     "output_type": "execute_result"
    }
   ],
   "source": [
    "tmp[\"realtimeTag\"]"
   ]
  },
  {
   "cell_type": "code",
   "execution_count": null,
   "metadata": {},
   "outputs": [],
   "source": []
  },
  {
   "cell_type": "code",
   "execution_count": null,
   "metadata": {},
   "outputs": [],
   "source": []
  },
  {
   "cell_type": "code",
   "execution_count": null,
   "metadata": {
    "collapsed": true
   },
   "outputs": [],
   "source": []
  }
 ],
 "metadata": {
  "kernelspec": {
   "display_name": "Python 2",
   "language": "python",
   "name": "python2"
  },
  "language_info": {
   "codemirror_mode": {
    "name": "ipython",
    "version": 2
   },
   "file_extension": ".py",
   "mimetype": "text/x-python",
   "name": "python",
   "nbconvert_exporter": "python",
   "pygments_lexer": "ipython2",
   "version": "2.7.14"
  }
 },
 "nbformat": 4,
 "nbformat_minor": 2
}
