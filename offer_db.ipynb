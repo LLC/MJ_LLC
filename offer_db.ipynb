{
 "cells": [
  {
   "cell_type": "code",
   "execution_count": 3,
   "metadata": {
    "collapsed": true
   },
   "outputs": [],
   "source": [
    "#-*- coding:utf-8 -*-\n",
    "import pandas as pd\n",
    "import numpy as np\n",
    "from datetime import datetime\n",
    "import time\n",
    "#print time.localtime()\n",
    "import json\n",
    "import psycopg2\n",
    "import redis"
   ]
  },
  {
   "cell_type": "code",
   "execution_count": 9,
   "metadata": {},
   "outputs": [
    {
     "data": {
      "text/html": [
       "<div>\n",
       "<style>\n",
       "    .dataframe thead tr:only-child th {\n",
       "        text-align: right;\n",
       "    }\n",
       "\n",
       "    .dataframe thead th {\n",
       "        text-align: left;\n",
       "    }\n",
       "\n",
       "    .dataframe tbody tr th {\n",
       "        vertical-align: top;\n",
       "    }\n",
       "</style>\n",
       "<table border=\"1\" class=\"dataframe\">\n",
       "  <thead>\n",
       "    <tr style=\"text-align: right;\">\n",
       "      <th></th>\n",
       "      <th>seg</th>\n",
       "      <th>UTID</th>\n",
       "      <th>offer1</th>\n",
       "      <th>offer2</th>\n",
       "      <th>offer3</th>\n",
       "      <th>offer4</th>\n",
       "      <th>offer5</th>\n",
       "      <th>offer6</th>\n",
       "      <th>offer7</th>\n",
       "      <th>offer8</th>\n",
       "      <th>offer9</th>\n",
       "      <th>offer10</th>\n",
       "    </tr>\n",
       "  </thead>\n",
       "  <tbody>\n",
       "    <tr>\n",
       "      <th>0</th>\n",
       "      <td>小資女</td>\n",
       "      <td>1</td>\n",
       "      <td>OFF0012</td>\n",
       "      <td>OFF0057</td>\n",
       "      <td>OFF0055</td>\n",
       "      <td>OFF0032</td>\n",
       "      <td>OFF0047</td>\n",
       "      <td>OFF0019</td>\n",
       "      <td>OFF0008</td>\n",
       "      <td>OFF0007</td>\n",
       "      <td>OFF0031</td>\n",
       "      <td>OFF0059</td>\n",
       "    </tr>\n",
       "    <tr>\n",
       "      <th>1</th>\n",
       "      <td>時尚買客(百貨購物)</td>\n",
       "      <td>2</td>\n",
       "      <td>OFF0057</td>\n",
       "      <td>OFF0055</td>\n",
       "      <td>OFF0062</td>\n",
       "      <td>OFF0019</td>\n",
       "      <td>OFF0012</td>\n",
       "      <td>OFF0008</td>\n",
       "      <td>OFF0047</td>\n",
       "      <td>OFF0007</td>\n",
       "      <td>OFF0011</td>\n",
       "      <td>OFF0031</td>\n",
       "    </tr>\n",
       "    <tr>\n",
       "      <th>2</th>\n",
       "      <td>聰明理財亨利族</td>\n",
       "      <td>3</td>\n",
       "      <td>OFF0031</td>\n",
       "      <td>OFF0058</td>\n",
       "      <td>OFF0062</td>\n",
       "      <td>OFF0056</td>\n",
       "      <td>OFF0008</td>\n",
       "      <td>OFF0061</td>\n",
       "      <td>OFF0021</td>\n",
       "      <td>OFF0011</td>\n",
       "      <td>OFF0007</td>\n",
       "      <td>OFF0060</td>\n",
       "    </tr>\n",
       "    <tr>\n",
       "      <th>3</th>\n",
       "      <td>世界任我行</td>\n",
       "      <td>4</td>\n",
       "      <td>OFF0021</td>\n",
       "      <td>OFF0007</td>\n",
       "      <td>OFF0011</td>\n",
       "      <td>OFF0061</td>\n",
       "      <td>OFF0056</td>\n",
       "      <td>OFF0008</td>\n",
       "      <td>OFF0059</td>\n",
       "      <td>OFF0047</td>\n",
       "      <td>OFF0057</td>\n",
       "      <td>OFF0055</td>\n",
       "    </tr>\n",
       "    <tr>\n",
       "      <th>4</th>\n",
       "      <td>量販大買家</td>\n",
       "      <td>5</td>\n",
       "      <td>OFF0059</td>\n",
       "      <td>OFF0055</td>\n",
       "      <td>OFF0007</td>\n",
       "      <td>OFF0047</td>\n",
       "      <td>OFF0057</td>\n",
       "      <td>OFF0058</td>\n",
       "      <td>OFF0062</td>\n",
       "      <td>OFF0021</td>\n",
       "      <td>OFF0012</td>\n",
       "      <td>OFF0008</td>\n",
       "    </tr>\n",
       "  </tbody>\n",
       "</table>\n",
       "</div>"
      ],
      "text/plain": [
       "          seg  UTID   offer1   offer2   offer3   offer4   offer5   offer6  \\\n",
       "0         小資女     1  OFF0012  OFF0057  OFF0055  OFF0032  OFF0047  OFF0019   \n",
       "1  時尚買客(百貨購物)     2  OFF0057  OFF0055  OFF0062  OFF0019  OFF0012  OFF0008   \n",
       "2     聰明理財亨利族     3  OFF0031  OFF0058  OFF0062  OFF0056  OFF0008  OFF0061   \n",
       "3       世界任我行     4  OFF0021  OFF0007  OFF0011  OFF0061  OFF0056  OFF0008   \n",
       "4       量販大買家     5  OFF0059  OFF0055  OFF0007  OFF0047  OFF0057  OFF0058   \n",
       "\n",
       "    offer7   offer8   offer9  offer10  \n",
       "0  OFF0008  OFF0007  OFF0031  OFF0059  \n",
       "1  OFF0047  OFF0007  OFF0011  OFF0031  \n",
       "2  OFF0021  OFF0011  OFF0007  OFF0060  \n",
       "3  OFF0059  OFF0047  OFF0057  OFF0055  \n",
       "4  OFF0062  OFF0021  OFF0012  OFF0008  "
      ]
     },
     "execution_count": 9,
     "metadata": {},
     "output_type": "execute_result"
    }
   ],
   "source": [
    "xls = pd.ExcelFile('OfferID_LIST_TAG.xlsx')\n",
    "offer_table = xls.parse('Data_Offer')\n",
    "offer_table.head()"
   ]
  },
  {
   "cell_type": "code",
   "execution_count": 10,
   "metadata": {},
   "outputs": [
    {
     "data": {
      "text/plain": [
       "[u'offer1',\n",
       " u'offer2',\n",
       " u'offer3',\n",
       " u'offer4',\n",
       " u'offer5',\n",
       " u'offer6',\n",
       " u'offer7',\n",
       " u'offer8',\n",
       " u'offer9',\n",
       " u'offer10']"
      ]
     },
     "execution_count": 10,
     "metadata": {},
     "output_type": "execute_result"
    }
   ],
   "source": [
    "offer_tag = list(offer_table)[2:]\n",
    "offer_tag"
   ]
  },
  {
   "cell_type": "code",
   "execution_count": 12,
   "metadata": {},
   "outputs": [
    {
     "data": {
      "text/plain": [
       "'1'"
      ]
     },
     "execution_count": 12,
     "metadata": {},
     "output_type": "execute_result"
    }
   ],
   "source": [
    "str(offer_table.loc[0,:]['UTID'])"
   ]
  },
  {
   "cell_type": "code",
   "execution_count": 13,
   "metadata": {},
   "outputs": [
    {
     "name": "stderr",
     "output_type": "stream",
     "text": [
      "/Users/llc/anaconda2/lib/python2.7/site-packages/ipykernel_launcher.py:10: SettingWithCopyWarning: \n",
      "A value is trying to be set on a copy of a slice from a DataFrame\n",
      "\n",
      "See the caveats in the documentation: http://pandas.pydata.org/pandas-docs/stable/indexing.html#indexing-view-versus-copy\n",
      "  # Remove the CWD from sys.path while we load stuff.\n"
     ]
    }
   ],
   "source": [
    "offer_table['offer_list'] = \"\"\n",
    "offer_Json = []\n",
    "for i in range(offer_table.shape[0]):\n",
    "    temp_list = []\n",
    "    temp_detail = {}\n",
    "    temp_detail['tag_value'] = str(offer_table.loc[i,:]['UTID'])\n",
    "    \n",
    "    for column in offer_tag:\n",
    "        temp_list.append(offer_table.loc[i,:][column])\n",
    "    offer_table.loc[i,:]['offer_list'] = temp_list\n",
    "    temp_detail['offer_list'] = temp_list\n",
    "    offer_Json.append(temp_detail)\n",
    "\n",
    "#seg = offer_table[['UTID','offer_list']]"
   ]
  },
  {
   "cell_type": "code",
   "execution_count": 16,
   "metadata": {},
   "outputs": [
    {
     "data": {
      "text/plain": [
       "0    \n",
       "1    \n",
       "2    \n",
       "3    \n",
       "4    \n",
       "5    \n",
       "6    \n",
       "Name: offer_list, dtype: object"
      ]
     },
     "execution_count": 16,
     "metadata": {},
     "output_type": "execute_result"
    }
   ],
   "source": [
    "offer_table['offer_list']"
   ]
  },
  {
   "cell_type": "code",
   "execution_count": 17,
   "metadata": {
    "collapsed": true
   },
   "outputs": [],
   "source": [
    "import psycopg2\n",
    "\n",
    "\n",
    "# connect PostgreSQL\n",
    "conn = psycopg2.connect(database = \"MJ\",\n",
    "                        host = \"localhost\",\n",
    "                        user = \"llc\",\n",
    "                        password = \"\")\n",
    "cur = conn.cursor()\n"
   ]
  },
  {
   "cell_type": "code",
   "execution_count": 20,
   "metadata": {},
   "outputs": [],
   "source": [
    "for i in offer_Json:\n",
    "    SQL = \"INSERT INTO offer_tag_db(tag_info) VALUES('{}');\".format(json.dumps(i))\n",
    "    cur.execute(SQL)\n",
    "    conn.commit()"
   ]
  },
  {
   "cell_type": "code",
   "execution_count": 22,
   "metadata": {
    "collapsed": true
   },
   "outputs": [],
   "source": [
    "def offer_tag_db_query(tag_value, sql_db):\n",
    "    SQL = \"SELECT tag_info FROM offer_tag_db WHERE tag_info->>'tag_value' = '{}';\".format(tag_value)\n",
    "    sql_db.execute(SQL)\n",
    "    records = sql_db.fetchall()[0][0]\n",
    "    return records"
   ]
  },
  {
   "cell_type": "code",
   "execution_count": 24,
   "metadata": {},
   "outputs": [
    {
     "data": {
      "text/plain": [
       "{u'offer_list': [u'OFF0012',\n",
       "  u'OFF0057',\n",
       "  u'OFF0055',\n",
       "  u'OFF0032',\n",
       "  u'OFF0047',\n",
       "  u'OFF0019',\n",
       "  u'OFF0008',\n",
       "  u'OFF0007',\n",
       "  u'OFF0031',\n",
       "  u'OFF0059'],\n",
       " u'tag_value': u'1'}"
      ]
     },
     "execution_count": 24,
     "metadata": {},
     "output_type": "execute_result"
    }
   ],
   "source": [
    "offer_tag_db_query(1,cur)"
   ]
  },
  {
   "cell_type": "code",
   "execution_count": null,
   "metadata": {
    "collapsed": true
   },
   "outputs": [],
   "source": []
  }
 ],
 "metadata": {
  "kernelspec": {
   "display_name": "Python 2",
   "language": "python",
   "name": "python2"
  },
  "language_info": {
   "codemirror_mode": {
    "name": "ipython",
    "version": 2
   },
   "file_extension": ".py",
   "mimetype": "text/x-python",
   "name": "python",
   "nbconvert_exporter": "python",
   "pygments_lexer": "ipython2",
   "version": "2.7.14"
  }
 },
 "nbformat": 4,
 "nbformat_minor": 1
}
