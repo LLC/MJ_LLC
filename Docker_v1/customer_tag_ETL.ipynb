{
 "cells": [
  {
   "cell_type": "code",
   "execution_count": 6,
   "metadata": {
    "collapsed": true
   },
   "outputs": [],
   "source": [
    "# -*- coding: utf-8 -*-\n",
    "import pandas as pd\n",
    "import numpy as np\n",
    "from datetime import datetime\n",
    "import time\n",
    "import json\n",
    "import psycopg2\n",
    "import redis\n",
    "import sys"
   ]
  },
  {
   "cell_type": "code",
   "execution_count": 7,
   "metadata": {},
   "outputs": [],
   "source": [
    "reload(sys)\n",
    "sys.setdefaultencoding('utf8') "
   ]
  },
  {
   "cell_type": "code",
   "execution_count": 8,
   "metadata": {
    "scrolled": false
   },
   "outputs": [
    {
     "data": {
      "text/html": [
       "<div>\n",
       "<style>\n",
       "    .dataframe thead tr:only-child th {\n",
       "        text-align: right;\n",
       "    }\n",
       "\n",
       "    .dataframe thead th {\n",
       "        text-align: left;\n",
       "    }\n",
       "\n",
       "    .dataframe tbody tr th {\n",
       "        vertical-align: top;\n",
       "    }\n",
       "</style>\n",
       "<table border=\"1\" class=\"dataframe\">\n",
       "  <thead>\n",
       "    <tr style=\"text-align: right;\">\n",
       "      <th></th>\n",
       "      <th>TAG_ID</th>\n",
       "      <th>scenario</th>\n",
       "      <th>recommedWeight</th>\n",
       "      <th>modelId</th>\n",
       "      <th>operationType</th>\n",
       "      <th>dataSource</th>\n",
       "      <th>securityFilter</th>\n",
       "      <th>expireAfter</th>\n",
       "      <th>create Time</th>\n",
       "      <th>update Time</th>\n",
       "      <th>tagVersion</th>\n",
       "      <th>isActive</th>\n",
       "      <th>Chinese_Desc</th>\n",
       "      <th>referenceDocument</th>\n",
       "    </tr>\n",
       "  </thead>\n",
       "  <tbody>\n",
       "    <tr>\n",
       "      <th>0</th>\n",
       "      <td>TG0001</td>\n",
       "      <td>I|LN|LN01</td>\n",
       "      <td>1</td>\n",
       "      <td>MINT00001</td>\n",
       "      <td>Batch</td>\n",
       "      <td>WB</td>\n",
       "      <td>admin</td>\n",
       "      <td>28</td>\n",
       "      <td>17385</td>\n",
       "      <td>17385</td>\n",
       "      <td>V1</td>\n",
       "      <td>Y</td>\n",
       "      <td>資金需求/無擔保/官網</td>\n",
       "      <td>INTENTION_REF</td>\n",
       "    </tr>\n",
       "    <tr>\n",
       "      <th>1</th>\n",
       "      <td>TG0002</td>\n",
       "      <td>I|LN|LN02</td>\n",
       "      <td>1</td>\n",
       "      <td>MINT00001</td>\n",
       "      <td>Batch</td>\n",
       "      <td>WB</td>\n",
       "      <td>admin</td>\n",
       "      <td>28</td>\n",
       "      <td>17385</td>\n",
       "      <td>17385</td>\n",
       "      <td>V1</td>\n",
       "      <td>Y</td>\n",
       "      <td>資金需求/房貸/官網</td>\n",
       "      <td>INTENTION_REF</td>\n",
       "    </tr>\n",
       "    <tr>\n",
       "      <th>2</th>\n",
       "      <td>TG0003</td>\n",
       "      <td>I|LN|LN03</td>\n",
       "      <td>1</td>\n",
       "      <td>MINT00001</td>\n",
       "      <td>Batch</td>\n",
       "      <td>WB</td>\n",
       "      <td>admin</td>\n",
       "      <td>28</td>\n",
       "      <td>17385</td>\n",
       "      <td>17385</td>\n",
       "      <td>V1</td>\n",
       "      <td>Y</td>\n",
       "      <td>資金需求/微型企業/官網</td>\n",
       "      <td>INTENTION_REF</td>\n",
       "    </tr>\n",
       "    <tr>\n",
       "      <th>3</th>\n",
       "      <td>TG0004</td>\n",
       "      <td>I|WM|WM01</td>\n",
       "      <td>1</td>\n",
       "      <td>MINT00001</td>\n",
       "      <td>Batch</td>\n",
       "      <td>WB</td>\n",
       "      <td>admin</td>\n",
       "      <td>28</td>\n",
       "      <td>17385</td>\n",
       "      <td>17385</td>\n",
       "      <td>V1</td>\n",
       "      <td>Y</td>\n",
       "      <td>投資理財/基金理財/官網</td>\n",
       "      <td>INTENTION_REF</td>\n",
       "    </tr>\n",
       "    <tr>\n",
       "      <th>4</th>\n",
       "      <td>TG0005</td>\n",
       "      <td>I|PL|PL01</td>\n",
       "      <td>1</td>\n",
       "      <td>MINT00001</td>\n",
       "      <td>Batch</td>\n",
       "      <td>WB</td>\n",
       "      <td>admin</td>\n",
       "      <td>28</td>\n",
       "      <td>17385</td>\n",
       "      <td>17385</td>\n",
       "      <td>V1</td>\n",
       "      <td>Y</td>\n",
       "      <td>享樂/百貨購物/官網</td>\n",
       "      <td>INTENTION_REF</td>\n",
       "    </tr>\n",
       "  </tbody>\n",
       "</table>\n",
       "</div>"
      ],
      "text/plain": [
       "   TAG_ID   scenario  recommedWeight    modelId operationType dataSource  \\\n",
       "0  TG0001  I|LN|LN01               1  MINT00001         Batch         WB   \n",
       "1  TG0002  I|LN|LN02               1  MINT00001         Batch         WB   \n",
       "2  TG0003  I|LN|LN03               1  MINT00001         Batch         WB   \n",
       "3  TG0004  I|WM|WM01               1  MINT00001         Batch         WB   \n",
       "4  TG0005  I|PL|PL01               1  MINT00001         Batch         WB   \n",
       "\n",
       "  securityFilter  expireAfter  create Time  update Time tagVersion isActive  \\\n",
       "0          admin           28        17385        17385         V1        Y   \n",
       "1          admin           28        17385        17385         V1        Y   \n",
       "2          admin           28        17385        17385         V1        Y   \n",
       "3          admin           28        17385        17385         V1        Y   \n",
       "4          admin           28        17385        17385         V1        Y   \n",
       "\n",
       "   Chinese_Desc referenceDocument  \n",
       "0   資金需求/無擔保/官網     INTENTION_REF  \n",
       "1    資金需求/房貸/官網     INTENTION_REF  \n",
       "2  資金需求/微型企業/官網     INTENTION_REF  \n",
       "3  投資理財/基金理財/官網     INTENTION_REF  \n",
       "4    享樂/百貨購物/官網     INTENTION_REF  "
      ]
     },
     "execution_count": 8,
     "metadata": {},
     "output_type": "execute_result"
    }
   ],
   "source": [
    "intent_table = pd.read_excel(\"INTENT_TAG.xlsx\")\n",
    "intent_table.head()"
   ]
  },
  {
   "cell_type": "code",
   "execution_count": 9,
   "metadata": {},
   "outputs": [
    {
     "data": {
      "text/plain": [
       "[u'TAG_ID',\n",
       " u'scenario',\n",
       " u'recommedWeight',\n",
       " u'modelId',\n",
       " u'operationType',\n",
       " u'dataSource',\n",
       " u'securityFilter',\n",
       " u'expireAfter',\n",
       " u'create Time',\n",
       " u'update Time',\n",
       " u'tagVersion',\n",
       " u'isActive',\n",
       " u'Chinese_Desc',\n",
       " u'referenceDocument']"
      ]
     },
     "execution_count": 9,
     "metadata": {},
     "output_type": "execute_result"
    }
   ],
   "source": [
    "intent_tag = list(intent_table)\n",
    "intent_tag"
   ]
  },
  {
   "cell_type": "code",
   "execution_count": 10,
   "metadata": {},
   "outputs": [],
   "source": [
    "intent_table['intent_list']=''\n",
    "intent_Json = []\n",
    "for i in range(intent_table.shape[0]):\n",
    "    temp_detail = {}\n",
    "    for column in intent_tag:\n",
    "        temp_detail[column]=str(intent_table.loc[i,:][column])\n",
    "    \n",
    "    scenario = intent_table.scenario[i].split('|')\n",
    "\n",
    "    temp_detail['scenario'] = {'DIIS1' : '',\n",
    "                               'DIIS2' : '',\n",
    "                               'DIIS3' : ''}\n",
    "    \n",
    "    for j in range(len(scenario)):\n",
    "        DIIS = 'DIIS' + str(j+1)\n",
    "        temp_detail['scenario'][DIIS] = scenario[j]\n",
    "    \n",
    "    intent_Json.append(temp_detail)\n",
    "print intent_Json"
   ]
  },
  {
   "cell_type": "code",
   "execution_count": 154,
   "metadata": {},
   "outputs": [
    {
     "data": {
      "text/plain": [
       "[u'S', u'SEG003', u'01']"
      ]
     },
     "execution_count": 154,
     "metadata": {},
     "output_type": "execute_result"
    }
   ],
   "source": [
    "scenario"
   ]
  },
  {
   "cell_type": "code",
   "execution_count": 155,
   "metadata": {},
   "outputs": [
    {
     "data": {
      "text/plain": [
       "{'DIIS1': u'S', 'DIIS2': u'SEG003', 'DIIS3': u'01'}"
      ]
     },
     "execution_count": 155,
     "metadata": {},
     "output_type": "execute_result"
    }
   ],
   "source": [
    "temp_detail['scenario']"
   ]
  },
  {
   "cell_type": "code",
   "execution_count": 141,
   "metadata": {},
   "outputs": [
    {
     "data": {
      "text/plain": [
       "\"\\nfor row in range(len(intent_table)):\\n    scenario = intent_table.scenario[row].split('|')\\n\\n    temp_detail['scenario'] = {'DIIS1' : '',\\n                               'DIIS2' : '',\\n                               'DIIS3' : ''}\\n    \\n    for i in range(len(scenario)):\\n        DIIS = 'DIIS' + str(i+1)\\n        temp_detail['scenario'][DIIS] = scenario[i]\\n\""
      ]
     },
     "execution_count": 141,
     "metadata": {},
     "output_type": "execute_result"
    }
   ],
   "source": [
    "\"\"\"\n",
    "for row in range(len(intent_table)):\n",
    "    scenario = intent_table.scenario[row].split('|')\n",
    "\n",
    "    temp_detail['scenario'] = {'DIIS1' : '',\n",
    "                               'DIIS2' : '',\n",
    "                               'DIIS3' : ''}\n",
    "    \n",
    "    for i in range(len(scenario)):\n",
    "        DIIS = 'DIIS' + str(i+1)\n",
    "        temp_detail['scenario'][DIIS] = scenario[i]\n",
    "\"\"\""
   ]
  },
  {
   "cell_type": "code",
   "execution_count": 142,
   "metadata": {
    "collapsed": true
   },
   "outputs": [],
   "source": [
    "import psycopg2\n",
    "\n",
    "\n",
    "# connect PostgreSQL\n",
    "conn = psycopg2.connect(database = \"MJ\",\n",
    "                        host = \"localhost\",\n",
    "                        user = \"llc\",\n",
    "                        password = \"\")\n",
    "cur = conn.cursor()"
   ]
  },
  {
   "cell_type": "code",
   "execution_count": 144,
   "metadata": {
    "collapsed": true
   },
   "outputs": [],
   "source": [
    "for i in intent_Json:\n",
    "    SQL = \"INSERT INTO intent_db(tag_info) VALUES('{}' );\".format(json.dumps(i))\n",
    "    cur.execute(SQL)\n",
    "    conn.commit()"
   ]
  },
  {
   "cell_type": "code",
   "execution_count": null,
   "metadata": {
    "collapsed": true
   },
   "outputs": [],
   "source": []
  },
  {
   "cell_type": "code",
   "execution_count": null,
   "metadata": {
    "collapsed": true
   },
   "outputs": [],
   "source": []
  }
 ],
 "metadata": {
  "kernelspec": {
   "display_name": "Python 2",
   "language": "python",
   "name": "python2"
  },
  "language_info": {
   "codemirror_mode": {
    "name": "ipython",
    "version": 2
   },
   "file_extension": ".py",
   "mimetype": "text/x-python",
   "name": "python",
   "nbconvert_exporter": "python",
   "pygments_lexer": "ipython2",
   "version": "2.7.14"
  }
 },
 "nbformat": 4,
 "nbformat_minor": 2
}
