{
 "cells": [
  {
   "cell_type": "code",
   "execution_count": 14,
   "metadata": {
    "collapsed": true
   },
   "outputs": [],
   "source": [
    "import redis\n",
    "\n",
    "ip = 'localhost'\n",
    "\n",
    "r0 = redis.Redis(host=ip, port=6379, db=0)\n",
    "r1 = redis.Redis(host=ip, port=6379, db=1)\n"
   ]
  },
  {
   "cell_type": "code",
   "execution_count": 101,
   "metadata": {},
   "outputs": [
    {
     "name": "stdout",
     "output_type": "stream",
     "text": [
      "[{u'tagTime': 1511774645.213363, u'scenario': {u'DIIS2': u'SEG001', u'DIIS3': u'01', u'DIIS1': u'S'}, u'isValid': u'Y', u'tagId': u'SEG001', u'securityFilter': u'admin', u'expireTime': 1511774675.213364, u'tagValue': 7, u'dataSource': u'EBM', u'tagName': [u'\\u5ba2\\u7fa41'], u'recommendWeight': u'1'}, {u'tagTime': 1511774645.215994, u'scenario': {u'DIIS2': u'SEG002', u'DIIS3': u'02', u'DIIS1': u'S'}, u'isValid': u'Y', u'tagId': u'SEG002', u'securityFilter': u'admin', u'expireTime': 1511774675.215994, u'tagValue': 3, u'dataSource': u'EBM', u'tagName': [u'\\u5ba2\\u7fa42'], u'recommendWeight': u'1'}]\n"
     ]
    }
   ],
   "source": [
    "print json.loads(r0.get(1500))['batchTag']"
   ]
  },
  {
   "cell_type": "code",
   "execution_count": null,
   "metadata": {
    "collapsed": true
   },
   "outputs": [],
   "source": []
  },
  {
   "cell_type": "code",
   "execution_count": null,
   "metadata": {
    "collapsed": true
   },
   "outputs": [],
   "source": []
  },
  {
   "cell_type": "code",
   "execution_count": null,
   "metadata": {
    "collapsed": true
   },
   "outputs": [],
   "source": []
  },
  {
   "cell_type": "code",
   "execution_count": 5,
   "metadata": {
    "collapsed": true
   },
   "outputs": [],
   "source": [
    "def offer_tag_db_query(TAG_VALUE, sql_db):\n",
    "    SQL = \"SELECT tag_info FROM offer_tag_db WHERE tag_info->>'tag_value' = '{}';\".format(TAG_VALUE)\n",
    "    sql_db.execute(SQL)\n",
    "    records = sql_db.fetchall()[0][0]\n",
    "    return records"
   ]
  },
  {
   "cell_type": "code",
   "execution_count": 3,
   "metadata": {
    "collapsed": true
   },
   "outputs": [],
   "source": [
    "import psycopg2\n",
    "conn = psycopg2.connect(database = \"MJ\",\n",
    "                        host = \"localhost\",\n",
    "                        user = \"llc\",\n",
    "                        password = \"\")\n",
    "cur = conn.cursor()"
   ]
  },
  {
   "cell_type": "code",
   "execution_count": 80,
   "metadata": {},
   "outputs": [
    {
     "data": {
      "text/plain": [
       "{'offer_list': [u'OFF0012',\n",
       "  u'OFF0057',\n",
       "  u'OFF0055',\n",
       "  u'OFF0032',\n",
       "  u'OFF0047',\n",
       "  u'OFF0019',\n",
       "  u'OFF0008',\n",
       "  u'OFF0007',\n",
       "  u'OFF0031',\n",
       "  u'OFF0059'],\n",
       " 'tag_value': 1}"
      ]
     },
     "execution_count": 80,
     "metadata": {},
     "output_type": "execute_result"
    }
   ],
   "source": [
    "value = 1\n",
    "offer_list = {\"tag_value\":value, \"offer_list\":offer_tag_db_query(1, cur)['offer_list']}\n",
    "offer_list"
   ]
  },
  {
   "cell_type": "code",
   "execution_count": 91,
   "metadata": {},
   "outputs": [
    {
     "data": {
      "text/plain": [
       "{u'offer_list': [u'OFF0012',\n",
       "  u'OFF0057',\n",
       "  u'OFF0055',\n",
       "  u'OFF0032',\n",
       "  u'OFF0047',\n",
       "  u'OFF0019',\n",
       "  u'OFF0008',\n",
       "  u'OFF0007',\n",
       "  u'OFF0031',\n",
       "  u'OFF0059'],\n",
       " u'tag_value': 1}"
      ]
     },
     "execution_count": 91,
     "metadata": {},
     "output_type": "execute_result"
    }
   ],
   "source": [
    "import json\n",
    "import re\n",
    "tmp = r1.get(1)\n",
    "tmp = tmp.replace(\"'\",'\"')\n",
    "test = re.sub(ur'u\"','\"',tmp)\n",
    "json.loads(test)"
   ]
  },
  {
   "cell_type": "code",
   "execution_count": 90,
   "metadata": {},
   "outputs": [
    {
     "ename": "AttributeError",
     "evalue": "'dict' object has no attribute 'replace'",
     "output_type": "error",
     "traceback": [
      "\u001b[0;31m---------------------------------------------------------------------------\u001b[0m",
      "\u001b[0;31mAttributeError\u001b[0m                            Traceback (most recent call last)",
      "\u001b[0;32m<ipython-input-90-28260fe254cc>\u001b[0m in \u001b[0;36m<module>\u001b[0;34m()\u001b[0m\n\u001b[1;32m      1\u001b[0m \u001b[0mb\u001b[0m \u001b[0;34m=\u001b[0m \u001b[0;34m{\u001b[0m\u001b[0;34m\"tag_value\"\u001b[0m\u001b[0;34m:\u001b[0m\u001b[0;36m1\u001b[0m\u001b[0;34m,\u001b[0m \u001b[0;34m\"offer_list\"\u001b[0m\u001b[0;34m:\u001b[0m\u001b[0mr1\u001b[0m\u001b[0;34m.\u001b[0m\u001b[0mget\u001b[0m\u001b[0;34m(\u001b[0m\u001b[0;36m1\u001b[0m\u001b[0;34m)\u001b[0m\u001b[0;34m}\u001b[0m\u001b[0;34m\u001b[0m\u001b[0m\n\u001b[0;32m----> 2\u001b[0;31m \u001b[0mb\u001b[0m\u001b[0;34m=\u001b[0m\u001b[0mb\u001b[0m\u001b[0;34m.\u001b[0m\u001b[0mreplace\u001b[0m\u001b[0;34m(\u001b[0m\u001b[0;34m\"'\"\u001b[0m\u001b[0;34m,\u001b[0m\u001b[0;34m'\"'\u001b[0m\u001b[0;34m)\u001b[0m\u001b[0;34m\u001b[0m\u001b[0m\n\u001b[0m\u001b[1;32m      3\u001b[0m \u001b[0mb\u001b[0m\u001b[0;34m=\u001b[0m\u001b[0mre\u001b[0m\u001b[0;34m.\u001b[0m\u001b[0msub\u001b[0m\u001b[0;34m(\u001b[0m\u001b[0;34mur'u\"'\u001b[0m\u001b[0;34m,\u001b[0m\u001b[0;34m'\"'\u001b[0m\u001b[0;34m,\u001b[0m\u001b[0mb\u001b[0m\u001b[0;34m)\u001b[0m\u001b[0;34m\u001b[0m\u001b[0m\n\u001b[1;32m      4\u001b[0m \u001b[0mjson\u001b[0m\u001b[0;34m.\u001b[0m\u001b[0mloads\u001b[0m\u001b[0;34m(\u001b[0m\u001b[0mb\u001b[0m\u001b[0;34m)\u001b[0m\u001b[0;34m\u001b[0m\u001b[0m\n",
      "\u001b[0;31mAttributeError\u001b[0m: 'dict' object has no attribute 'replace'"
     ]
    }
   ],
   "source": [
    "b = {\"tag_value\":1, \"offer_list\":r1.get(1)}\n",
    "b=b.replace(\"'\",'\"')\n",
    "b=re.sub(ur'u\"','\"',b)\n",
    "json.loads(b)"
   ]
  },
  {
   "cell_type": "code",
   "execution_count": 58,
   "metadata": {
    "collapsed": true
   },
   "outputs": [],
   "source": [
    "a = [u'OFF0031', u'OFF0058', u'OFF0062', u'OFF0056', u'OFF0008', u'OFF0061', u'OFF0021', u'OFF0011', u'OFF0007', u'OFF0060']"
   ]
  },
  {
   "cell_type": "code",
   "execution_count": 61,
   "metadata": {},
   "outputs": [
    {
     "ename": "TypeError",
     "evalue": "expected string or buffer",
     "output_type": "error",
     "traceback": [
      "\u001b[0;31m---------------------------------------------------------------------------\u001b[0m",
      "\u001b[0;31mTypeError\u001b[0m                                 Traceback (most recent call last)",
      "\u001b[0;32m<ipython-input-61-983d66c89373>\u001b[0m in \u001b[0;36m<module>\u001b[0;34m()\u001b[0m\n\u001b[0;32m----> 1\u001b[0;31m \u001b[0mre\u001b[0m\u001b[0;34m.\u001b[0m\u001b[0msub\u001b[0m\u001b[0;34m(\u001b[0m\u001b[0;34mur\"u'\"\u001b[0m\u001b[0;34m,\u001b[0m\u001b[0;34m'\"'\u001b[0m\u001b[0;34m,\u001b[0m\u001b[0ma\u001b[0m\u001b[0;34m)\u001b[0m\u001b[0;34m\u001b[0m\u001b[0m\n\u001b[0m",
      "\u001b[0;32m/Users/llc/anaconda2/lib/python2.7/re.pyc\u001b[0m in \u001b[0;36msub\u001b[0;34m(pattern, repl, string, count, flags)\u001b[0m\n\u001b[1;32m    153\u001b[0m     \u001b[0ma\u001b[0m \u001b[0mcallable\u001b[0m\u001b[0;34m,\u001b[0m \u001b[0mit\u001b[0m\u001b[0;31m'\u001b[0m\u001b[0ms\u001b[0m \u001b[0mpassed\u001b[0m \u001b[0mthe\u001b[0m \u001b[0mmatch\u001b[0m \u001b[0mobject\u001b[0m \u001b[0;32mand\u001b[0m \u001b[0mmust\u001b[0m \u001b[0;32mreturn\u001b[0m\u001b[0;34m\u001b[0m\u001b[0m\n\u001b[1;32m    154\u001b[0m     a replacement string to be used.\"\"\"\n\u001b[0;32m--> 155\u001b[0;31m     \u001b[0;32mreturn\u001b[0m \u001b[0m_compile\u001b[0m\u001b[0;34m(\u001b[0m\u001b[0mpattern\u001b[0m\u001b[0;34m,\u001b[0m \u001b[0mflags\u001b[0m\u001b[0;34m)\u001b[0m\u001b[0;34m.\u001b[0m\u001b[0msub\u001b[0m\u001b[0;34m(\u001b[0m\u001b[0mrepl\u001b[0m\u001b[0;34m,\u001b[0m \u001b[0mstring\u001b[0m\u001b[0;34m,\u001b[0m \u001b[0mcount\u001b[0m\u001b[0;34m)\u001b[0m\u001b[0;34m\u001b[0m\u001b[0m\n\u001b[0m\u001b[1;32m    156\u001b[0m \u001b[0;34m\u001b[0m\u001b[0m\n\u001b[1;32m    157\u001b[0m \u001b[0;32mdef\u001b[0m \u001b[0msubn\u001b[0m\u001b[0;34m(\u001b[0m\u001b[0mpattern\u001b[0m\u001b[0;34m,\u001b[0m \u001b[0mrepl\u001b[0m\u001b[0;34m,\u001b[0m \u001b[0mstring\u001b[0m\u001b[0;34m,\u001b[0m \u001b[0mcount\u001b[0m\u001b[0;34m=\u001b[0m\u001b[0;36m0\u001b[0m\u001b[0;34m,\u001b[0m \u001b[0mflags\u001b[0m\u001b[0;34m=\u001b[0m\u001b[0;36m0\u001b[0m\u001b[0;34m)\u001b[0m\u001b[0;34m:\u001b[0m\u001b[0;34m\u001b[0m\u001b[0m\n",
      "\u001b[0;31mTypeError\u001b[0m: expected string or buffer"
     ]
    }
   ],
   "source": [
    "re.sub(ur\"u'\",'\"',a)"
   ]
  },
  {
   "cell_type": "code",
   "execution_count": 108,
   "metadata": {
    "collapsed": true
   },
   "outputs": [],
   "source": [
    "import psycopg2\n",
    "\n",
    "\n",
    "# connect PostgreSQL\n",
    "conn = psycopg2.connect(database = \"MJ\",\n",
    "                        host = \"localhost\",\n",
    "                        user = \"llc\",\n",
    "                        password = \"\")\n",
    "cur = conn.cursor()"
   ]
  },
  {
   "cell_type": "code",
   "execution_count": 109,
   "metadata": {
    "collapsed": true
   },
   "outputs": [],
   "source": [
    "def offer_label_db_query(offerid, sql_db):\n",
    "    SQL = \"SELECT tag_info FROM offer_label_db WHERE tag_info->>'offer_id' = '{}';\".format(offerid)\n",
    "    sql_db.execute(SQL)\n",
    "    records = sql_db.fetchall()[0][0]\n",
    "    return records"
   ]
  },
  {
   "cell_type": "code",
   "execution_count": 110,
   "metadata": {},
   "outputs": [
    {
     "data": {
      "text/plain": [
       "{u'label': [u'\\u5916\\u5e63',\n",
       "  u'\\u7db2\\u8def\\u63db\\u532f',\n",
       "  u'\\u7db2\\u8def\\u4ea4\\u6613',\n",
       "  u'\\u532f\\u7387',\n",
       "  u'\\u512a\\u60e0',\n",
       "  u'\\u7db2\\u8def\\u9280\\u884c',\n",
       "  u'\\u884c\\u52d5\\u9280\\u884c',\n",
       "  u'\\u591c\\u9593\\u63db\\u532f'],\n",
       " u'offer_id': u'OFF0001'}"
      ]
     },
     "execution_count": 110,
     "metadata": {},
     "output_type": "execute_result"
    }
   ],
   "source": [
    "offer_label_db_query(\"OFF0001\",cur)"
   ]
  },
  {
   "cell_type": "code",
   "execution_count": 112,
   "metadata": {},
   "outputs": [],
   "source": [
    "# -*- coding: utf-8 -*-\n",
    "import pandas as pd\n",
    "import numpy as np\n",
    "from datetime import datetime\n",
    "import time\n",
    "import json\n",
    "import psycopg2\n",
    "import redis\n",
    "import sys\n",
    "\n",
    "reload(sys)\n",
    "sys.setdefaultencoding('utf8') \n",
    "\n",
    "intent_table = pd.read_excel(\"INTENT_TAG.xlsx\")\n",
    "intent_tag = list(intent_table)\n",
    "\n",
    "intent_table['intent_list']=''\n",
    "intent_Json = []\n",
    "for i in range(intent_table.shape[0]):\n",
    "    temp_detail = {}\n",
    "    for column in intent_tag:\n",
    "        temp_detail[column]=str(intent_table.loc[i,:][column])\n",
    "    \n",
    "    scenario = intent_table.scenario[i].split('|')\n",
    "\n",
    "    temp_detail['scenario'] = {'DIIS1' : '',\n",
    "                               'DIIS2' : '',\n",
    "                               'DIIS3' : ''}\n",
    "    \n",
    "    for j in range(len(scenario)):\n",
    "        DIIS = 'DIIS' + str(j+1)\n",
    "        temp_detail['scenario'][DIIS] = scenario[j]\n",
    "    \n",
    "    intent_Json.append(temp_detail)\n",
    "\n",
    "    \n",
    "    \n",
    "database='test'\n",
    "host = 'localhost'\n",
    "user = 'llc'\n",
    "password = ''\n",
    "\n",
    "conn = psycopg2.connect(database = database,\n",
    "                        host = host,\n",
    "                        user = user,\n",
    "                        password = password)\n",
    "cur = conn.cursor()\n",
    "\n",
    "create_intent_db_sql = \"\"\"CREATE TABLE intent_db( \n",
    "            id serial PRIMARY KEY,   \n",
    "            tag_info json NOT NULL   \n",
    "            )\"\"\"\n",
    "cur.execute(create_intent_db_sql)\n",
    "conn.commit()\n",
    "\n",
    "for i in intent_Json:\n",
    "    SQL = \"INSERT INTO test_db(tag_info) VALUES('{}' );\".format(json.dumps(i))\n",
    "    cur.execute(SQL)\n",
    "    conn.commit()"
   ]
  },
  {
   "cell_type": "code",
   "execution_count": 129,
   "metadata": {},
   "outputs": [],
   "source": [
    "conn = psycopg2.connect(database = \"MJ\",\n",
    "                        host = 'localhost',\n",
    "                        user = \"llc\",\n",
    "                        password = \"\")\n",
    "cur = conn.cursor() \n",
    "\n",
    "cur.execute(\"select * from information_schema.tables where table_name='intent_db';\")\n",
    "if bool(cur.rowcount):\n",
    "    print 'intent_db is exist!'\n",
    "    pass\n",
    "\n",
    "else:\n",
    "    SQL = \"CREATE TABLE intent_db(id serial PRIMARY KEY,tag_info json NOT NULL);\"\n",
    "    cur.execute(SQL)\n",
    "    conn.commit()\n",
    "    print \"Create Table Done!\""
   ]
  },
  {
   "cell_type": "code",
   "execution_count": null,
   "metadata": {
    "collapsed": true
   },
   "outputs": [],
   "source": [
    "\n"
   ]
  }
 ],
 "metadata": {
  "kernelspec": {
   "display_name": "Python 2",
   "language": "python",
   "name": "python2"
  },
  "language_info": {
   "codemirror_mode": {
    "name": "ipython",
    "version": 2
   },
   "file_extension": ".py",
   "mimetype": "text/x-python",
   "name": "python",
   "nbconvert_exporter": "python",
   "pygments_lexer": "ipython2",
   "version": "2.7.14"
  }
 },
 "nbformat": 4,
 "nbformat_minor": 2
}
