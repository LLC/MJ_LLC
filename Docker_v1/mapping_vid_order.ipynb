{
 "cells": [
  {
   "cell_type": "code",
   "execution_count": 23,
   "metadata": {
    "collapsed": true
   },
   "outputs": [],
   "source": [
    "# -*- coding: utf-8 -*-\n",
    "import pandas as pd\n",
    "import numpy as np\n",
    "from datetime import datetime\n",
    "import time\n",
    "import sys\n",
    "import json\n",
    "import psycopg2\n",
    "import redis"
   ]
  },
  {
   "cell_type": "code",
   "execution_count": 24,
   "metadata": {
    "collapsed": true
   },
   "outputs": [],
   "source": [
    "reload(sys)\n",
    "sys.setdefaultencoding('utf8') "
   ]
  },
  {
   "cell_type": "code",
   "execution_count": 36,
   "metadata": {},
   "outputs": [],
   "source": [
    "table_withTagValue = pd.read_excel(\"TAG_Value_DOWNLOAD.xlsx\")\n",
    "table_withTagValue = table_withTagValue.reset_index(drop=True)"
   ]
  },
  {
   "cell_type": "code",
   "execution_count": 37,
   "metadata": {
    "collapsed": true
   },
   "outputs": [],
   "source": [
    "import psycopg2\n",
    "# connect PostgreSQL\n",
    "conn = psycopg2.connect(database = \"MJ\",\n",
    "                        host = \"localhost\",\n",
    "                        user = \"llc\",\n",
    "                        password = \"\")\n",
    "cur = conn.cursor()"
   ]
  },
  {
   "cell_type": "code",
   "execution_count": 150,
   "metadata": {
    "collapsed": true
   },
   "outputs": [],
   "source": [
    "def tag_db_query(TAG_VALUE, sql_db):\n",
    "    SQL = \"SELECT tag_info FROM offer_db WHERE tag_info->>'Tag_value' = '{}';\".format(TAG_VALUE)\n",
    "    sql_db.execute(SQL)\n",
    "    records = sql_db.fetchall()[0][0]\n",
    "    return records"
   ]
  },
  {
   "cell_type": "code",
   "execution_count": 39,
   "metadata": {},
   "outputs": [
    {
     "data": {
      "text/plain": [
       "[u'1_WomanEcard.png',\n",
       " u'5_DreamEcard.png',\n",
       " u'6_CardAddFriend.png',\n",
       " u'12_WeddingLN.png',\n",
       " u'4_InvitMovie.png',\n",
       " u'7_AndroidPay.png',\n",
       " u'8_FX_NBOpen.png',\n",
       " u'3_NB_FXTrade.png',\n",
       " u'17_FundPopular.png',\n",
       " u'10_Ecard.png']"
      ]
     },
     "execution_count": 39,
     "metadata": {},
     "output_type": "execute_result"
    }
   ],
   "source": [
    "tag_db_query(1,cur)['offer_list']"
   ]
  },
  {
   "cell_type": "code",
   "execution_count": 210,
   "metadata": {},
   "outputs": [
    {
     "data": {
      "text/html": [
       "<div>\n",
       "<style>\n",
       "    .dataframe thead tr:only-child th {\n",
       "        text-align: right;\n",
       "    }\n",
       "\n",
       "    .dataframe thead th {\n",
       "        text-align: left;\n",
       "    }\n",
       "\n",
       "    .dataframe tbody tr th {\n",
       "        vertical-align: top;\n",
       "    }\n",
       "</style>\n",
       "<table border=\"1\" class=\"dataframe\">\n",
       "  <thead>\n",
       "    <tr style=\"text-align: right;\">\n",
       "      <th></th>\n",
       "      <th>ID</th>\n",
       "      <th>UTID</th>\n",
       "      <th>TAG_VALUE</th>\n",
       "    </tr>\n",
       "  </thead>\n",
       "  <tbody>\n",
       "    <tr>\n",
       "      <th>0</th>\n",
       "      <td>1</td>\n",
       "      <td>SEG001</td>\n",
       "      <td>1</td>\n",
       "    </tr>\n",
       "    <tr>\n",
       "      <th>1</th>\n",
       "      <td>2</td>\n",
       "      <td>SEG001</td>\n",
       "      <td>2</td>\n",
       "    </tr>\n",
       "    <tr>\n",
       "      <th>2</th>\n",
       "      <td>3</td>\n",
       "      <td>SEG001</td>\n",
       "      <td>3</td>\n",
       "    </tr>\n",
       "    <tr>\n",
       "      <th>3</th>\n",
       "      <td>4</td>\n",
       "      <td>SEG001</td>\n",
       "      <td>4</td>\n",
       "    </tr>\n",
       "    <tr>\n",
       "      <th>4</th>\n",
       "      <td>5</td>\n",
       "      <td>SEG001</td>\n",
       "      <td>5</td>\n",
       "    </tr>\n",
       "  </tbody>\n",
       "</table>\n",
       "</div>"
      ],
      "text/plain": [
       "   ID    UTID  TAG_VALUE\n",
       "0   1  SEG001          1\n",
       "1   2  SEG001          2\n",
       "2   3  SEG001          3\n",
       "3   4  SEG001          4\n",
       "4   5  SEG001          5"
      ]
     },
     "execution_count": 210,
     "metadata": {},
     "output_type": "execute_result"
    }
   ],
   "source": [
    "table_withTagValue.head()"
   ]
  },
  {
   "cell_type": "code",
   "execution_count": 218,
   "metadata": {},
   "outputs": [
    {
     "data": {
      "text/plain": [
       "[u'1_WomanEcard.png',\n",
       " u'5_DreamEcard.png',\n",
       " u'6_CardAddFriend.png',\n",
       " u'12_WeddingLN.png',\n",
       " u'4_InvitMovie.png',\n",
       " u'7_AndroidPay.png',\n",
       " u'8_FX_NBOpen.png',\n",
       " u'3_NB_FXTrade.png',\n",
       " u'17_FundPopular.png',\n",
       " u'10_Ecard.png']"
      ]
     },
     "execution_count": 218,
     "metadata": {},
     "output_type": "execute_result"
    }
   ],
   "source": [
    "def getTagValue(ID, tagID):\n",
    "    for i in range(len(table_withTagValue)):\n",
    "        if table_withTagValue['ID'][i] == ID and table_withTagValue['UTID'][i] == tagID:\n",
    "            return table_withTagValue['TAG_VALUE'][i]\n",
    "        \n",
    "def getOffer(TAG_VALUE):\n",
    "    return tag_db_query(TAG_VALUE, cur)['offer_list']\n",
    "\n",
    "getOffer(getTagValue(1,'SEG001'))"
   ]
  },
  {
   "cell_type": "code",
   "execution_count": null,
   "metadata": {
    "collapsed": true
   },
   "outputs": [],
   "source": [
    "import redis\n",
    "a = redis.StrictRedis(host='localhost', port=6379, db=0)\n",
    "\n",
    "for i in range(len(table_withTagValue)):\n",
    "    a.set(table_withTagValue['ID'][i],      )"
   ]
  },
  {
   "cell_type": "code",
   "execution_count": 219,
   "metadata": {},
   "outputs": [],
   "source": [
    "unique_ID = list(np.unique(table_withTagValue['ID']))"
   ]
  },
  {
   "cell_type": "code",
   "execution_count": 197,
   "metadata": {},
   "outputs": [
    {
     "data": {
      "text/plain": [
       "[u'1_WomanEcard.png',\n",
       " u'5_DreamEcard.png',\n",
       " u'6_CardAddFriend.png',\n",
       " u'12_WeddingLN.png',\n",
       " u'4_InvitMovie.png',\n",
       " u'7_AndroidPay.png',\n",
       " u'8_FX_NBOpen.png',\n",
       " u'3_NB_FXTrade.png',\n",
       " u'17_FundPopular.png',\n",
       " u'10_Ecard.png']"
      ]
     },
     "execution_count": 197,
     "metadata": {},
     "output_type": "execute_result"
    }
   ],
   "source": [
    "temp_detail[1]"
   ]
  },
  {
   "cell_type": "code",
   "execution_count": 200,
   "metadata": {},
   "outputs": [
    {
     "data": {
      "text/plain": [
       "\"[u'17_FundPopular.png', u'9_OnlineCTI.png', u'14_Parking.png', u'2_FX_EUR.png', u'8_FX_NBOpen.png', u'13_Airport.png', u'15_FX_ATM.png', u'16_FX_Insurance.png', u'3_NB_FXTrade.png', u'11_ECardLoan.png']\""
      ]
     },
     "execution_count": 200,
     "metadata": {},
     "output_type": "execute_result"
    }
   ],
   "source": [
    "a.get(3)"
   ]
  },
  {
   "cell_type": "code",
   "execution_count": null,
   "metadata": {
    "collapsed": true
   },
   "outputs": [],
   "source": []
  },
  {
   "cell_type": "code",
   "execution_count": null,
   "metadata": {
    "collapsed": true
   },
   "outputs": [],
   "source": [
    "#Get unique png\n",
    "output = []\n",
    "for x in temp_detail[table_withTagValue['ID'][i]]:\n",
    "    if x not in output:\n",
    "        output.append(x)\n",
    "output"
   ]
  }
 ],
 "metadata": {
  "kernelspec": {
   "display_name": "Python 2",
   "language": "python",
   "name": "python2"
  },
  "language_info": {
   "codemirror_mode": {
    "name": "ipython",
    "version": 2
   },
   "file_extension": ".py",
   "mimetype": "text/x-python",
   "name": "python",
   "nbconvert_exporter": "python",
   "pygments_lexer": "ipython2",
   "version": "2.7.14"
  }
 },
 "nbformat": 4,
 "nbformat_minor": 2
}
