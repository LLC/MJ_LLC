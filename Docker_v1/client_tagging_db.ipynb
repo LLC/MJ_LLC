{
 "cells": [
  {
   "cell_type": "code",
   "execution_count": 163,
   "metadata": {
    "collapsed": true
   },
   "outputs": [],
   "source": [
    "# -*- coding: utf-8 -*-\n",
    "import pandas as pd\n",
    "import numpy as np\n",
    "from datetime import datetime\n",
    "import time\n",
    "import sys\n",
    "import json\n",
    "import psycopg2\n",
    "import redis"
   ]
  },
  {
   "cell_type": "code",
   "execution_count": 41,
   "metadata": {
    "collapsed": true
   },
   "outputs": [],
   "source": [
    "reload(sys)\n",
    "sys.setdefaultencoding('utf8') "
   ]
  },
  {
   "cell_type": "code",
   "execution_count": 42,
   "metadata": {},
   "outputs": [
    {
     "data": {
      "text/html": [
       "<div>\n",
       "<style>\n",
       "    .dataframe thead tr:only-child th {\n",
       "        text-align: right;\n",
       "    }\n",
       "\n",
       "    .dataframe thead th {\n",
       "        text-align: left;\n",
       "    }\n",
       "\n",
       "    .dataframe tbody tr th {\n",
       "        vertical-align: top;\n",
       "    }\n",
       "</style>\n",
       "<table border=\"1\" class=\"dataframe\">\n",
       "  <thead>\n",
       "    <tr style=\"text-align: right;\">\n",
       "      <th></th>\n",
       "      <th>ID</th>\n",
       "      <th>UTID</th>\n",
       "    </tr>\n",
       "  </thead>\n",
       "  <tbody>\n",
       "    <tr>\n",
       "      <th>0</th>\n",
       "      <td>1</td>\n",
       "      <td>TG0122</td>\n",
       "    </tr>\n",
       "    <tr>\n",
       "      <th>1</th>\n",
       "      <td>1</td>\n",
       "      <td>TG0124</td>\n",
       "    </tr>\n",
       "    <tr>\n",
       "      <th>2</th>\n",
       "      <td>1</td>\n",
       "      <td>TG0127</td>\n",
       "    </tr>\n",
       "    <tr>\n",
       "      <th>3</th>\n",
       "      <td>1</td>\n",
       "      <td>TG0128</td>\n",
       "    </tr>\n",
       "    <tr>\n",
       "      <th>4</th>\n",
       "      <td>1</td>\n",
       "      <td>TG0129</td>\n",
       "    </tr>\n",
       "  </tbody>\n",
       "</table>\n",
       "</div>"
      ],
      "text/plain": [
       "   ID    UTID\n",
       "0   1  TG0122\n",
       "1   1  TG0124\n",
       "2   1  TG0127\n",
       "3   1  TG0128\n",
       "4   1  TG0129"
      ]
     },
     "execution_count": 42,
     "metadata": {},
     "output_type": "execute_result"
    }
   ],
   "source": [
    "table1 = pd.read_excel(\"TAG_LOG_DOWNLOAD.xlsx\")\n",
    "table1.head()"
   ]
  },
  {
   "cell_type": "code",
   "execution_count": 43,
   "metadata": {
    "scrolled": true
   },
   "outputs": [
    {
     "data": {
      "text/html": [
       "<div>\n",
       "<style>\n",
       "    .dataframe thead tr:only-child th {\n",
       "        text-align: right;\n",
       "    }\n",
       "\n",
       "    .dataframe thead th {\n",
       "        text-align: left;\n",
       "    }\n",
       "\n",
       "    .dataframe tbody tr th {\n",
       "        vertical-align: top;\n",
       "    }\n",
       "</style>\n",
       "<table border=\"1\" class=\"dataframe\">\n",
       "  <thead>\n",
       "    <tr style=\"text-align: right;\">\n",
       "      <th></th>\n",
       "      <th>ID</th>\n",
       "      <th>UTID</th>\n",
       "      <th>TAG_VALUE</th>\n",
       "    </tr>\n",
       "  </thead>\n",
       "  <tbody>\n",
       "    <tr>\n",
       "      <th>0</th>\n",
       "      <td>1</td>\n",
       "      <td>TG0122</td>\n",
       "      <td></td>\n",
       "    </tr>\n",
       "    <tr>\n",
       "      <th>1</th>\n",
       "      <td>1</td>\n",
       "      <td>TG0124</td>\n",
       "      <td></td>\n",
       "    </tr>\n",
       "    <tr>\n",
       "      <th>2</th>\n",
       "      <td>1</td>\n",
       "      <td>TG0127</td>\n",
       "      <td></td>\n",
       "    </tr>\n",
       "    <tr>\n",
       "      <th>3</th>\n",
       "      <td>1</td>\n",
       "      <td>TG0128</td>\n",
       "      <td></td>\n",
       "    </tr>\n",
       "    <tr>\n",
       "      <th>4</th>\n",
       "      <td>1</td>\n",
       "      <td>TG0129</td>\n",
       "      <td></td>\n",
       "    </tr>\n",
       "  </tbody>\n",
       "</table>\n",
       "</div>"
      ],
      "text/plain": [
       "   ID    UTID TAG_VALUE\n",
       "0   1  TG0122          \n",
       "1   1  TG0124          \n",
       "2   1  TG0127          \n",
       "3   1  TG0128          \n",
       "4   1  TG0129          "
      ]
     },
     "execution_count": 43,
     "metadata": {},
     "output_type": "execute_result"
    }
   ],
   "source": [
    "table1['TAG_VALUE'] = \"\"\n",
    "table1.head()"
   ]
  },
  {
   "cell_type": "code",
   "execution_count": 44,
   "metadata": {
    "scrolled": true
   },
   "outputs": [
    {
     "data": {
      "text/html": [
       "<div>\n",
       "<style>\n",
       "    .dataframe thead tr:only-child th {\n",
       "        text-align: right;\n",
       "    }\n",
       "\n",
       "    .dataframe thead th {\n",
       "        text-align: left;\n",
       "    }\n",
       "\n",
       "    .dataframe tbody tr th {\n",
       "        vertical-align: top;\n",
       "    }\n",
       "</style>\n",
       "<table border=\"1\" class=\"dataframe\">\n",
       "  <thead>\n",
       "    <tr style=\"text-align: right;\">\n",
       "      <th></th>\n",
       "      <th>ID</th>\n",
       "      <th>UTID</th>\n",
       "      <th>TAG_VALUE</th>\n",
       "    </tr>\n",
       "  </thead>\n",
       "  <tbody>\n",
       "    <tr>\n",
       "      <th>0</th>\n",
       "      <td>1</td>\n",
       "      <td>SEG001</td>\n",
       "      <td>1</td>\n",
       "    </tr>\n",
       "    <tr>\n",
       "      <th>1</th>\n",
       "      <td>2</td>\n",
       "      <td>SEG001</td>\n",
       "      <td>2</td>\n",
       "    </tr>\n",
       "    <tr>\n",
       "      <th>2</th>\n",
       "      <td>3</td>\n",
       "      <td>SEG001</td>\n",
       "      <td>3</td>\n",
       "    </tr>\n",
       "    <tr>\n",
       "      <th>3</th>\n",
       "      <td>4</td>\n",
       "      <td>SEG001</td>\n",
       "      <td>4</td>\n",
       "    </tr>\n",
       "    <tr>\n",
       "      <th>4</th>\n",
       "      <td>5</td>\n",
       "      <td>SEG001</td>\n",
       "      <td>5</td>\n",
       "    </tr>\n",
       "  </tbody>\n",
       "</table>\n",
       "</div>"
      ],
      "text/plain": [
       "   ID    UTID  TAG_VALUE\n",
       "0   1  SEG001          1\n",
       "1   2  SEG001          2\n",
       "2   3  SEG001          3\n",
       "3   4  SEG001          4\n",
       "4   5  SEG001          5"
      ]
     },
     "execution_count": 44,
     "metadata": {},
     "output_type": "execute_result"
    }
   ],
   "source": [
    "table2 = pd.read_excel(\"TAG_Value_DOWNLOAD.xlsx\")\n",
    "table2.head()"
   ]
  },
  {
   "cell_type": "code",
   "execution_count": 45,
   "metadata": {
    "collapsed": true
   },
   "outputs": [],
   "source": [
    "table_merge = pd.concat([table1.loc[:,:], table2.loc[:,:]], axis = 0)\n",
    "table_merge = table_merge.reset_index(drop=True)"
   ]
  },
  {
   "cell_type": "code",
   "execution_count": 235,
   "metadata": {},
   "outputs": [
    {
     "data": {
      "text/plain": [
       "\"[u'5_DreamEcard.png', u'6_CardAddFriend.png', u'14_Parking.png', u'7_AndroidPay.png', u'1_WomanEcard.png', u'8_FX_NBOpen.png', u'4_InvitMovie.png', u'3_NB_FXTrade.png', u'16_FX_Insurance.png', u'17_FundPopular.png']\""
      ]
     },
     "execution_count": 235,
     "metadata": {},
     "output_type": "execute_result"
    }
   ],
   "source": [
    "import redis\n",
    "r = redis.Redis(host='localhost', port=6379, db=1)\n",
    "unique_tagValue = list(np.unique(table2['TAG_VALUE']))\n",
    "for value in unique_tagValue:\n",
    "    r.set(value, offer_db_query(value, cur)['offer_list'])\n",
    "r.get(\"2\")"
   ]
  },
  {
   "cell_type": "code",
   "execution_count": 193,
   "metadata": {
    "collapsed": true
   },
   "outputs": [],
   "source": [
    "import psycopg2\n",
    "\n",
    "\n",
    "# connect PostgreSQL\n",
    "conn = psycopg2.connect(database = \"MJ\",\n",
    "                        host = \"localhost\",\n",
    "                        user = \"llc\",\n",
    "                        password = \"\")\n",
    "cur = conn.cursor()"
   ]
  },
  {
   "cell_type": "code",
   "execution_count": 166,
   "metadata": {
    "collapsed": true
   },
   "outputs": [],
   "source": [
    "r = redis.StrictRedis(host='localhost', port=6379, db=0)"
   ]
  },
  {
   "cell_type": "code",
   "execution_count": 70,
   "metadata": {
    "collapsed": true
   },
   "outputs": [],
   "source": [
    "def intent_db_query(UTID, sql_db):\n",
    "    SQL = \"SELECT tag_info FROM intent_db WHERE tag_info->>'TAG_ID' = '{}';\".format(UTID)\n",
    "    sql_db.execute(SQL)\n",
    "    records = sql_db.fetchall()[0][0]\n",
    "    return records"
   ]
  },
  {
   "cell_type": "code",
   "execution_count": 194,
   "metadata": {
    "collapsed": true
   },
   "outputs": [],
   "source": [
    "def offer_db_query(TAG_VALUE, sql_db):\n",
    "    SQL = \"SELECT tag_info FROM offer_db WHERE tag_info->>'Tag_value' = '{}';\".format(TAG_VALUE)\n",
    "    sql_db.execute(SQL)\n",
    "    records = sql_db.fetchall()[0][0]\n",
    "    return records"
   ]
  },
  {
   "cell_type": "code",
   "execution_count": 71,
   "metadata": {
    "collapsed": true
   },
   "outputs": [],
   "source": [
    "print intent_db_query(\"TG0122\",cur)[u'Chinese_Desc']"
   ]
  },
  {
   "cell_type": "code",
   "execution_count": 73,
   "metadata": {},
   "outputs": [
    {
     "data": {
      "text/plain": [
       "1500"
      ]
     },
     "execution_count": 73,
     "metadata": {},
     "output_type": "execute_result"
    }
   ],
   "source": [
    "import numpy as np\n",
    "unique_ID = np.unique(table_merge['ID'])\n",
    "len(unique_ID)"
   ]
  },
  {
   "cell_type": "code",
   "execution_count": 86,
   "metadata": {},
   "outputs": [
    {
     "data": {
      "text/html": [
       "<div>\n",
       "<style>\n",
       "    .dataframe thead tr:only-child th {\n",
       "        text-align: right;\n",
       "    }\n",
       "\n",
       "    .dataframe thead th {\n",
       "        text-align: left;\n",
       "    }\n",
       "\n",
       "    .dataframe tbody tr th {\n",
       "        vertical-align: top;\n",
       "    }\n",
       "</style>\n",
       "<table border=\"1\" class=\"dataframe\">\n",
       "  <thead>\n",
       "    <tr style=\"text-align: right;\">\n",
       "      <th></th>\n",
       "      <th>ID</th>\n",
       "      <th>UTID</th>\n",
       "      <th>TAG_VALUE</th>\n",
       "    </tr>\n",
       "  </thead>\n",
       "  <tbody>\n",
       "    <tr>\n",
       "      <th>8939</th>\n",
       "      <td>1500</td>\n",
       "      <td>SEG001</td>\n",
       "      <td>7</td>\n",
       "    </tr>\n",
       "    <tr>\n",
       "      <th>10439</th>\n",
       "      <td>1500</td>\n",
       "      <td>SEG002</td>\n",
       "      <td>3</td>\n",
       "    </tr>\n",
       "  </tbody>\n",
       "</table>\n",
       "</div>"
      ],
      "text/plain": [
       "         ID    UTID TAG_VALUE\n",
       "8939   1500  SEG001         7\n",
       "10439  1500  SEG002         3"
      ]
     },
     "execution_count": 86,
     "metadata": {},
     "output_type": "execute_result"
    }
   ],
   "source": [
    "unique_ID_table"
   ]
  },
  {
   "cell_type": "code",
   "execution_count": null,
   "metadata": {
    "collapsed": true
   },
   "outputs": [],
   "source": []
  },
  {
   "cell_type": "code",
   "execution_count": 236,
   "metadata": {
    "collapsed": true
   },
   "outputs": [],
   "source": [
    "#tagging_Json = []\n",
    "\n",
    "for i in unique_ID:\n",
    "    temp_list = []\n",
    "    temp_detail = {}    \n",
    "    unique_ID_table = table_merge[table_merge.ID==i]\n",
    "    temp_detail['VID'] = i\n",
    "    temp_detail['realtimeTag'] = []\n",
    "    #for utid in unique_ID_table['UTID']:\n",
    "    #   temp_list.append(tag_db_query(utid,cur))\n",
    "    for j in range(len(unique_ID_table)):\n",
    "        query_update = {}\n",
    "        query_temp = tag_db_query(unique_ID_table['UTID'].values[j],cur)\n",
    "\n",
    "        query_update['scenario'] = query_temp['scenario']\n",
    "        query_update['recommendWeight'] = query_temp['recommedWeight']\n",
    "        query_update['dataSource'] = query_temp['dataSource']\n",
    "        query_update['securityFilter'] = query_temp['securityFilter']\n",
    "        query_update['tagValue'] = unique_ID_table['TAG_VALUE'].values[j]\n",
    "        query_update['tagId'] = query_temp['TAG_ID']\n",
    "        query_update['tagName'] = query_temp['Chinese_Desc']\n",
    "        query_update['tagTime'] = time.time()\n",
    "        query_update['expireTime'] = time.time() + float(query_temp['expireAfter'])\n",
    "        query_update['isValid'] = query_temp['isActive']\n",
    "        temp_list.append(query_update)\n",
    "    temp_detail['batchTag'] = temp_list\n",
    "    r.set(i, json.dumps(temp_detail,ensure_ascii=False))\n",
    "    \n",
    "#    tagging_Json.append(temp_detail)\n",
    "#tagging_Json"
   ]
  },
  {
   "cell_type": "code",
   "execution_count": 237,
   "metadata": {},
   "outputs": [
    {
     "data": {
      "text/plain": [
       "{'VID': 1500,\n",
       " 'batchTag': [{'dataSource': u'EBM',\n",
       "   'expireTime': 1511427383.629948,\n",
       "   'isValid': u'Y',\n",
       "   'recommendWeight': u'1',\n",
       "   'scenario': {u'DIIS1': u'S', u'DIIS2': u'SEG001', u'DIIS3': u'01'},\n",
       "   'securityFilter': u'admin',\n",
       "   'tagId': u'SEG001',\n",
       "   'tagName': u'\\u5ba2\\u7fa41',\n",
       "   'tagTime': 1511427353.629947,\n",
       "   'tagValue': 7},\n",
       "  {'dataSource': u'EBM',\n",
       "   'expireTime': 1511427383.633504,\n",
       "   'isValid': u'Y',\n",
       "   'recommendWeight': u'1',\n",
       "   'scenario': {u'DIIS1': u'S', u'DIIS2': u'SEG002', u'DIIS3': u'02'},\n",
       "   'securityFilter': u'admin',\n",
       "   'tagId': u'SEG002',\n",
       "   'tagName': u'\\u5ba2\\u7fa42',\n",
       "   'tagTime': 1511427353.633503,\n",
       "   'tagValue': 3}],\n",
       " 'realtimeTag': []}"
      ]
     },
     "execution_count": 237,
     "metadata": {},
     "output_type": "execute_result"
    }
   ],
   "source": [
    "temp_detail"
   ]
  },
  {
   "cell_type": "code",
   "execution_count": null,
   "metadata": {
    "collapsed": true
   },
   "outputs": [],
   "source": [
    "for i in intent_Json:\n",
    "    SQL = \"INSERT INTO tagging_db(tag_info) VALUES('{}' );\".format(json.dumps(i))\n",
    "    cur.execute(SQL)\n",
    "    conn.commit()"
   ]
  },
  {
   "cell_type": "code",
   "execution_count": 173,
   "metadata": {},
   "outputs": [
    {
     "data": {
      "text/plain": [
       "'{\"batchTag\": [{\"tagTime\": 1511251102.208681, \"scenario\": {\"DIIS2\": \"SEG001\", \"DIIS3\": \"01\", \"DIIS1\": \"S\"}, \"isValid\": \"Y\", \"tagId\": \"SEG001\", \"securityFilter\": \"admin\", \"expireTime\": 1511251132.208681, \"tagValue\": 7, \"dataSource\": \"EBM\", \"tagName\": \"\\xe5\\xae\\xa2\\xe7\\xbe\\xa41\", \"recommendWeight\": \"1\"}, {\"tagTime\": 1511251102.211655, \"scenario\": {\"DIIS2\": \"SEG002\", \"DIIS3\": \"02\", \"DIIS1\": \"S\"}, \"isValid\": \"Y\", \"tagId\": \"SEG002\", \"securityFilter\": \"admin\", \"expireTime\": 1511251132.211656, \"tagValue\": 3, \"dataSource\": \"EBM\", \"tagName\": \"\\xe5\\xae\\xa2\\xe7\\xbe\\xa42\", \"recommendWeight\": \"1\"}], \"realtimeTag\": [], \"VID\": 1500}'"
      ]
     },
     "execution_count": 173,
     "metadata": {},
     "output_type": "execute_result"
    }
   ],
   "source": [
    "r.get(1)"
   ]
  },
  {
   "cell_type": "code",
   "execution_count": 215,
   "metadata": {},
   "outputs": [
    {
     "data": {
      "text/plain": [
       "{u'VID': 1,\n",
       " u'batchTag': [{u'dataSource': u'WB',\n",
       "   u'expireTime': 1511251094.464498,\n",
       "   u'isValid': u'Y',\n",
       "   u'recommendWeight': u'1',\n",
       "   u'scenario': {u'DIIS1': u'H', u'DIIS2': u'SHP', u'DIIS3': u'SHP04'},\n",
       "   u'securityFilter': u'admin',\n",
       "   u'tagId': u'TG0122',\n",
       "   u'tagName': u'\\u751f\\u6d3b/\\u751f\\u6d3b\\u767e\\u8ca8/\\u5b98\\u7db2',\n",
       "   u'tagTime': 1511251066.464497,\n",
       "   u'tagValue': u''},\n",
       "  {u'dataSource': u'WB',\n",
       "   u'expireTime': 1511251094.469115,\n",
       "   u'isValid': u'Y',\n",
       "   u'recommendWeight': u'1',\n",
       "   u'scenario': {u'DIIS1': u'H', u'DIIS2': u'SHP', u'DIIS3': u'SHP06'},\n",
       "   u'securityFilter': u'admin',\n",
       "   u'tagId': u'TG0124',\n",
       "   u'tagName': u'\\u5916\\u532f/\\u7db2\\u9280',\n",
       "   u'tagTime': 1511251066.469113,\n",
       "   u'tagValue': u''},\n",
       "  {u'dataSource': u'CC',\n",
       "   u'expireTime': 1511251094.474415,\n",
       "   u'isValid': u'Y',\n",
       "   u'recommendWeight': u'1',\n",
       "   u'scenario': {u'DIIS1': u'H', u'DIIS2': u'SHP', u'DIIS3': u'SHP02'},\n",
       "   u'securityFilter': u'admin',\n",
       "   u'tagId': u'TG0127',\n",
       "   u'tagName': u'BEH\\u5047\\u8cc7\\u65991',\n",
       "   u'tagTime': 1511251066.474414,\n",
       "   u'tagValue': u''},\n",
       "  {u'dataSource': u'NB',\n",
       "   u'expireTime': 1511251094.478114,\n",
       "   u'isValid': u'Y',\n",
       "   u'recommendWeight': u'1',\n",
       "   u'scenario': {u'DIIS1': u'H', u'DIIS2': u'SHP', u'DIIS3': u'SHP03'},\n",
       "   u'securityFilter': u'admin',\n",
       "   u'tagId': u'TG0128',\n",
       "   u'tagName': u'BEH\\u5047\\u8cc7\\u65992',\n",
       "   u'tagTime': 1511251066.478113,\n",
       "   u'tagValue': u''},\n",
       "  {u'dataSource': u'PTT',\n",
       "   u'expireTime': 1511251094.482293,\n",
       "   u'isValid': u'Y',\n",
       "   u'recommendWeight': u'1',\n",
       "   u'scenario': {u'DIIS1': u'H', u'DIIS2': u'SHP', u'DIIS3': u'SHP04'},\n",
       "   u'securityFilter': u'admin',\n",
       "   u'tagId': u'TG0129',\n",
       "   u'tagName': u'\\u8cc7\\u91d1\\u9700\\u6c42/\\u7121\\u64d4\\u4fdd/\\u5b98\\u7db2',\n",
       "   u'tagTime': 1511251066.482292,\n",
       "   u'tagValue': u''},\n",
       "  {u'dataSource': u'WB',\n",
       "   u'expireTime': 1511251094.487352,\n",
       "   u'isValid': u'Y',\n",
       "   u'recommendWeight': u'1',\n",
       "   u'scenario': {u'DIIS1': u'B', u'DIIS2': u'CC03', u'DIIS3': u'CC0348'},\n",
       "   u'securityFilter': u'admin',\n",
       "   u'tagId': u'TG0203',\n",
       "   u'tagName': u'BEH\\u5047\\u8cc7\\u65991',\n",
       "   u'tagTime': 1511251066.487351,\n",
       "   u'tagValue': u''},\n",
       "  {u'dataSource': u'CC',\n",
       "   u'expireTime': 1511251094.493714,\n",
       "   u'isValid': u'Y',\n",
       "   u'recommendWeight': u'1',\n",
       "   u'scenario': {u'DIIS1': u'I', u'DIIS2': u'CC', u'DIIS3': u'CC20'},\n",
       "   u'securityFilter': u'admin',\n",
       "   u'tagId': u'TG0087',\n",
       "   u'tagName': u'\\u8cc7\\u91d1\\u9700\\u6c42/\\u5fae\\u578b\\u4f01\\u696d/\\u5b98\\u7db2',\n",
       "   u'tagTime': 1511251066.493712,\n",
       "   u'tagValue': u''},\n",
       "  {u'dataSource': u'CC',\n",
       "   u'expireTime': 1511251096.496865,\n",
       "   u'isValid': u'Y',\n",
       "   u'recommendWeight': u'1',\n",
       "   u'scenario': {u'DIIS1': u'I', u'DIIS2': u'CC', u'DIIS3': u'CC09'},\n",
       "   u'securityFilter': u'admin',\n",
       "   u'tagId': u'TG0096',\n",
       "   u'tagName': u'BEH\\u5047\\u8cc7\\u65992',\n",
       "   u'tagTime': 1511251066.496864,\n",
       "   u'tagValue': u''},\n",
       "  {u'dataSource': u'PTT',\n",
       "   u'expireTime': 1511251094.499639,\n",
       "   u'isValid': u'Y',\n",
       "   u'recommendWeight': u'1',\n",
       "   u'scenario': {u'DIIS1': u'I', u'DIIS2': u'CC', u'DIIS3': u'CC20'},\n",
       "   u'securityFilter': u'admin',\n",
       "   u'tagId': u'TG0109',\n",
       "   u'tagName': u'\\u6027\\u5225',\n",
       "   u'tagTime': 1511251066.499638,\n",
       "   u'tagValue': u''},\n",
       "  {u'dataSource': u'CC',\n",
       "   u'expireTime': 1511251096.504043,\n",
       "   u'isValid': u'Y',\n",
       "   u'recommendWeight': u'1',\n",
       "   u'scenario': {u'DIIS1': u'I', u'DIIS2': u'LN', u'DIIS3': u'LN18'},\n",
       "   u'securityFilter': u'admin',\n",
       "   u'tagId': u'TG0038',\n",
       "   u'tagName': u'\\u751f\\u6d3b/\\u751f\\u6d3b\\u767e\\u8ca8/\\u5b98\\u7db2',\n",
       "   u'tagTime': 1511251066.504042,\n",
       "   u'tagValue': u''},\n",
       "  {u'dataSource': u'WB',\n",
       "   u'expireTime': 1511251094.508076,\n",
       "   u'isValid': u'Y',\n",
       "   u'recommendWeight': u'1',\n",
       "   u'scenario': {u'DIIS1': u'I', u'DIIS2': u'LN', u'DIIS3': u'LN01'},\n",
       "   u'securityFilter': u'admin',\n",
       "   u'tagId': u'TG0043',\n",
       "   u'tagName': u'BEH\\u5047\\u8cc7\\u65991',\n",
       "   u'tagTime': 1511251066.508076,\n",
       "   u'tagValue': u''},\n",
       "  {u'dataSource': u'WB',\n",
       "   u'expireTime': 1511251094.511859,\n",
       "   u'isValid': u'Y',\n",
       "   u'recommendWeight': u'1',\n",
       "   u'scenario': {u'DIIS1': u'I', u'DIIS2': u'LN', u'DIIS3': u'LN01'},\n",
       "   u'securityFilter': u'admin',\n",
       "   u'tagId': u'TG0021',\n",
       "   u'tagName': u'\\u8cc7\\u91d1\\u9700\\u6c42/\\u7121\\u64d4\\u4fdd/\\u5b98\\u7db2',\n",
       "   u'tagTime': 1511251066.511857,\n",
       "   u'tagValue': u''},\n",
       "  {u'dataSource': u'WB',\n",
       "   u'expireTime': 1511251094.514993,\n",
       "   u'isValid': u'Y',\n",
       "   u'recommendWeight': u'1',\n",
       "   u'scenario': {u'DIIS1': u'I', u'DIIS2': u'LN', u'DIIS3': u'LN02'},\n",
       "   u'securityFilter': u'admin',\n",
       "   u'tagId': u'TG0022',\n",
       "   u'tagName': u'\\u8cc7\\u91d1\\u9700\\u6c42/\\u623f\\u8cb8/\\u5b98\\u7db2',\n",
       "   u'tagTime': 1511251066.514993,\n",
       "   u'tagValue': u''},\n",
       "  {u'dataSource': u'CC',\n",
       "   u'expireTime': 1511251096.518078,\n",
       "   u'isValid': u'Y',\n",
       "   u'recommendWeight': u'1',\n",
       "   u'scenario': {u'DIIS1': u'R', u'DIIS2': u'REC01', u'DIIS3': u'28'},\n",
       "   u'securityFilter': u'admin',\n",
       "   u'tagId': u'TG0357',\n",
       "   u'tagName': u'\\u4eab\\u6a02/\\u767e\\u8ca8\\u8cfc\\u7269/\\u5b98\\u7db2',\n",
       "   u'tagTime': 1511251066.518077,\n",
       "   u'tagValue': u''},\n",
       "  {u'dataSource': u'WB',\n",
       "   u'expireTime': 1511251094.521927,\n",
       "   u'isValid': u'Y',\n",
       "   u'recommendWeight': u'1',\n",
       "   u'scenario': {u'DIIS1': u'R', u'DIIS2': u'REC01', u'DIIS3': u'34'},\n",
       "   u'securityFilter': u'admin',\n",
       "   u'tagId': u'TG0363',\n",
       "   u'tagName': u'BEH\\u5047\\u8cc7\\u65991',\n",
       "   u'tagTime': 1511251066.521926,\n",
       "   u'tagValue': u''},\n",
       "  {u'dataSource': u'CC',\n",
       "   u'expireTime': 1511251096.524839,\n",
       "   u'isValid': u'Y',\n",
       "   u'recommendWeight': u'1',\n",
       "   u'scenario': {u'DIIS1': u'R', u'DIIS2': u'REC01', u'DIIS3': u'46'},\n",
       "   u'securityFilter': u'admin',\n",
       "   u'tagId': u'TG0375',\n",
       "   u'tagName': u'\\u8cc7\\u91d1\\u9700\\u6c42/\\u5fae\\u578b\\u4f01\\u696d/\\u5b98\\u7db2',\n",
       "   u'tagTime': 1511251066.524838,\n",
       "   u'tagValue': u''},\n",
       "  {u'dataSource': u'WB',\n",
       "   u'expireTime': 1511251094.528119,\n",
       "   u'isValid': u'Y',\n",
       "   u'recommendWeight': u'1',\n",
       "   u'scenario': {u'DIIS1': u'R', u'DIIS2': u'REC01', u'DIIS3': u'15'},\n",
       "   u'securityFilter': u'admin',\n",
       "   u'tagId': u'TG0344',\n",
       "   u'tagName': u'\\u6295\\u8cc7\\u7406\\u8ca1/\\u57fa\\u91d1\\u7406\\u8ca1/\\u5b98\\u7db2',\n",
       "   u'tagTime': 1511251066.528118,\n",
       "   u'tagValue': u''},\n",
       "  {u'dataSource': u'PTT',\n",
       "   u'expireTime': 1511251094.530809,\n",
       "   u'isValid': u'Y',\n",
       "   u'recommendWeight': u'1',\n",
       "   u'scenario': {u'DIIS1': u'R', u'DIIS2': u'REC01', u'DIIS3': u'60'},\n",
       "   u'securityFilter': u'admin',\n",
       "   u'tagId': u'TG0389',\n",
       "   u'tagName': u'\\u4eab\\u6a02/\\u767e\\u8ca8\\u8cfc\\u7269/\\u5b98\\u7db2',\n",
       "   u'tagTime': 1511251066.530808,\n",
       "   u'tagValue': u''},\n",
       "  {u'dataSource': u'EBM',\n",
       "   u'expireTime': 1511251096.533609,\n",
       "   u'isValid': u'Y',\n",
       "   u'recommendWeight': u'1',\n",
       "   u'scenario': {u'DIIS1': u'S', u'DIIS2': u'SEG001', u'DIIS3': u'01'},\n",
       "   u'securityFilter': u'admin',\n",
       "   u'tagId': u'SEG001',\n",
       "   u'tagName': u'\\u5ba2\\u7fa41',\n",
       "   u'tagTime': 1511251066.533609,\n",
       "   u'tagValue': 1},\n",
       "  {u'dataSource': u'EBM',\n",
       "   u'expireTime': 1511251096.536731,\n",
       "   u'isValid': u'Y',\n",
       "   u'recommendWeight': u'1',\n",
       "   u'scenario': {u'DIIS1': u'S', u'DIIS2': u'SEG002', u'DIIS3': u'02'},\n",
       "   u'securityFilter': u'admin',\n",
       "   u'tagId': u'SEG002',\n",
       "   u'tagName': u'\\u5ba2\\u7fa42',\n",
       "   u'tagTime': 1511251066.53673,\n",
       "   u'tagValue': 1}],\n",
       " u'realtimeTag': []}"
      ]
     },
     "execution_count": 215,
     "metadata": {},
     "output_type": "execute_result"
    }
   ],
   "source": [
    "json.loads(r.get(1))"
   ]
  },
  {
   "cell_type": "code",
   "execution_count": 183,
   "metadata": {},
   "outputs": [
    {
     "data": {
      "text/plain": [
       "u'SEG001'"
      ]
     },
     "execution_count": 183,
     "metadata": {},
     "output_type": "execute_result"
    }
   ],
   "source": [
    "a.values()[0][0]['tagId']"
   ]
  },
  {
   "cell_type": "code",
   "execution_count": 214,
   "metadata": {},
   "outputs": [
    {
     "name": "stdout",
     "output_type": "stream",
     "text": [
      "input VID:1\n",
      "input tagId:'SEG001'\n"
     ]
    }
   ],
   "source": [
    "def getTagValue(ID, tagID):\n",
    "    for i in range(len(table2)):\n",
    "        if table2['ID'][i] == ID and table2['UTID'][i] == tagID:\n",
    "            return table2['TAG_VALUE'][i]\n",
    "        \n",
    "def getOffer(TAG_VALUE):\n",
    "    return offer_db_query(TAG_VALUE, cur)['offer_list']\n",
    "\n",
    "input1 = int(raw_input(\"input VID:\"))\n",
    "#tag_info = json.loads(r.get(input1))\n",
    "input2 = raw_input(\"input tagId:\")\n",
    "getTagValue(input1, input2)"
   ]
  },
  {
   "cell_type": "code",
   "execution_count": 217,
   "metadata": {},
   "outputs": [
    {
     "data": {
      "text/plain": [
       "[u'1_WomanEcard.png',\n",
       " u'5_DreamEcard.png',\n",
       " u'6_CardAddFriend.png',\n",
       " u'12_WeddingLN.png',\n",
       " u'4_InvitMovie.png',\n",
       " u'7_AndroidPay.png',\n",
       " u'8_FX_NBOpen.png',\n",
       " u'3_NB_FXTrade.png',\n",
       " u'17_FundPopular.png',\n",
       " u'10_Ecard.png']"
      ]
     },
     "execution_count": 217,
     "metadata": {},
     "output_type": "execute_result"
    }
   ],
   "source": [
    "def getTagValue(ID, tagID):\n",
    "    for i in range(len(table2)):\n",
    "        if table2['ID'][i] == ID and table2['UTID'][i] == tagID:\n",
    "            return table2['TAG_VALUE'][i]\n",
    "        \n",
    "def getOffer(TAG_VALUE):\n",
    "    return offer_db_query(TAG_VALUE, cur)['offer_list']\n",
    "\n",
    "getOffer(getTagValue(1,'SEG001'))"
   ]
  },
  {
   "cell_type": "code",
   "execution_count": null,
   "metadata": {
    "collapsed": true
   },
   "outputs": [],
   "source": []
  },
  {
   "cell_type": "code",
   "execution_count": null,
   "metadata": {
    "collapsed": true
   },
   "outputs": [],
   "source": [
    "\"\"\"\n",
    "tagging_Json = []\n",
    "\n",
    "for i in unique_ID:\n",
    "    temp_list = []\n",
    "    temp_detail = {}    \n",
    "    unique_ID_table = table_merge[table_merge.ID==i]\n",
    "    for utid in unique_ID_table['UTID']:\n",
    "        temp_detail['VID'] = i\n",
    "        temp_list.append(tag_db_query(utid,cur))\n",
    "    temp_detail['batchTag'] = temp_list\n",
    "    \n",
    "    tagging_Json.append(temp_detail)\n",
    "tagging_Json\n",
    "\"\"\"\n",
    "\"\"\"\n",
    "tagging_Json = []\n",
    "\n",
    "for i in range(table_merge.shape[0]):    \n",
    "    temp_detail = {}\n",
    "    temp_detail['VID'] = table_merge['ID'].values[i]\n",
    "                         #str(table_merge.loc[i,:]['ID'])\n",
    "    query_UTID = table_merge['UTID'].values[i]\n",
    "                 #str(table_merge.loc[i,:]['UTID'])\n",
    "    temp_detail['batchTag'] = tag_db_query(query_UTID,cur)\n",
    "    \n",
    "    tagging_Json.append(temp_detail)\n",
    "tagging_Json\n",
    "\"\"\"\n"
   ]
  },
  {
   "cell_type": "code",
   "execution_count": 170,
   "metadata": {},
   "outputs": [
    {
     "data": {
      "text/plain": [
       "{'ID': '3', 'TAG_VALUE': '3', 'UTID': 'SEG001'}"
      ]
     },
     "execution_count": 170,
     "metadata": {},
     "output_type": "execute_result"
    }
   ],
   "source": [
    "import redis\n",
    "r = redis.StrictRedis(host='localhost', port=6379, db=0)\n",
    "\n",
    "for i in range(3):\n",
    "    for j in range(len(list(table2))):\n",
    "        r.hset(table2['ID'][i], list(table2)[j], table2[list(table2)[j]][i])\n",
    "\n",
    "r.hgetall(3)"
   ]
  },
  {
   "cell_type": "code",
   "execution_count": 135,
   "metadata": {},
   "outputs": [
    {
     "data": {
      "text/plain": [
       "{'UTID': u'SEG002',\n",
       " 'dataSource': u'EBM',\n",
       " 'expireTime': 1511246809.328338,\n",
       " 'isValid': u'Y',\n",
       " 'recommendWeight': u'1',\n",
       " 'scenario': {u'DIIS1': u'S', u'DIIS2': u'SEG002', u'DIIS3': u'02'},\n",
       " 'securityFilter': u'admin',\n",
       " 'tagId': u'SEG002',\n",
       " 'tagName': u'\\u5ba2\\u7fa42',\n",
       " 'tagTime': 1511246779.328193,\n",
       " 'tagValue': 3}"
      ]
     },
     "execution_count": 135,
     "metadata": {},
     "output_type": "execute_result"
    }
   ],
   "source": [
    "\"\"\"\n",
    "query_update = {}\n",
    "query_temp = tag_db_query(unique_ID_table['UTID'].values[1],cur)\n",
    "\n",
    "query_update['scenario'] = query_temp['scenario']\n",
    "query_update['recommendWeight'] = query_temp['recommedWeight']\n",
    "query_update['dataSource'] = query_temp['dataSource']\n",
    "query_update['securityFilter'] = query_temp['securityFilter']\n",
    "query_update['tagValue'] = unique_ID_table['TAG_VALUE'].values[1]\n",
    "query_update['tagId'] = query_temp['TAG_ID']\n",
    "query_update['tagName'] = query_temp['Chinese_Desc']\n",
    "query_update['tagTime'] = time.time()\n",
    "query_update['expireTime'] = time.time() + float(query_temp['expireAfter'])\n",
    "query_update['isValid'] = query_temp['isActive']\n",
    "\n",
    "query_update\n",
    "\"\"\""
   ]
  }
 ],
 "metadata": {
  "kernelspec": {
   "display_name": "Python 2",
   "language": "python",
   "name": "python2"
  },
  "language_info": {
   "codemirror_mode": {
    "name": "ipython",
    "version": 2
   },
   "file_extension": ".py",
   "mimetype": "text/x-python",
   "name": "python",
   "nbconvert_exporter": "python",
   "pygments_lexer": "ipython2",
   "version": "2.7.14"
  }
 },
 "nbformat": 4,
 "nbformat_minor": 2
}
